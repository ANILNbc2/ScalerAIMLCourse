{
  "nbformat": 4,
  "nbformat_minor": 0,
  "metadata": {
    "colab": {
      "provenance": [],
      "include_colab_link": true
    },
    "kernelspec": {
      "name": "python3",
      "display_name": "Python 3"
    },
    "language_info": {
      "name": "python"
    }
  },
  "cells": [
    {
      "cell_type": "markdown",
      "metadata": {
        "id": "view-in-github",
        "colab_type": "text"
      },
      "source": [
        "<a href=\"https://colab.research.google.com/github/ANILNbc2/ScalerAIMLCourse/blob/main/AIML_July_lecture2.ipynb\" target=\"_parent\"><img src=\"https://colab.research.google.com/assets/colab-badge.svg\" alt=\"Open In Colab\"/></a>"
      ]
    },
    {
      "cell_type": "code",
      "execution_count": null,
      "metadata": {
        "id": "ZYQ3v0hI-BNy"
      },
      "outputs": [],
      "source": [
        "import numpy as np"
      ]
    },
    {
      "cell_type": "code",
      "source": [
        "# reversing an array\n",
        "arr = np.array([1,2,3,4,5])\n",
        "print(arr[::-1])"
      ],
      "metadata": {
        "colab": {
          "base_uri": "https://localhost:8080/"
        },
        "id": "LiWsjSnLCUu-",
        "outputId": "116f4b9c-b183-417b-da1f-ceacc74c0331"
      },
      "execution_count": null,
      "outputs": [
        {
          "output_type": "stream",
          "name": "stdout",
          "text": [
            "[5 4 3 2 1]\n"
          ]
        }
      ]
    },
    {
      "cell_type": "code",
      "source": [
        "# Take a sample of 50 restaurants\n",
        "sample_votes = np.array([775, 787, 918, 88, 166, 286, 2556, 324, 504, 402, 150, 164, 424, 918, 90, 133, 144, 93, 62, 180, 62, 148, 219, 506, 172, 415, 230, 1647, 4884, 133, 286, 540, 2556, 36, 244, 804, 679, 245, 345, 618, 1047, 627, 354, 244, 163, 808, 1720, 868, 520, 299])\n",
        "sample_costs = np.array([800.0, 800.0, 800.0, 300.0, 600.0, 600.0, 600.0, 700.0, 550.0, 500.0, 600.0, 500.0, 450.0, 800.0, 650.0, 800.0, 700.0, 300.0, 400.0, 500.0, 600.0, 550.0, 600.0, 500.0, 750.0, 500.0, 650.0, 600.0, 750.0, 200.0, 500.0, 800.0, 600.0, 400.0, 300.0, 450.0, 850.0, 300.0, 400.0, 750.0, 450.0, 450.0, 800.0, 800.0, 800.0, 850.0, 400.0, 1200.0, 300.0, 300.0])\n",
        "\n",
        "# Create a 2D array: rows = restaurants, columns = [votes, costs]\n",
        "restaurants_data = np.column_stack((sample_votes, sample_costs))\n",
        "\n",
        "print(\"2D Array (votes, costs):\\n\", restaurants_data)\n",
        "print(\"Shape:\", restaurants_data.shape)\n",
        "print(\"Dimensions:\", restaurants_data.ndim)  # 2D"
      ],
      "metadata": {
        "colab": {
          "base_uri": "https://localhost:8080/"
        },
        "id": "hsNL4C9v-TGd",
        "outputId": "1b7758c0-ef68-4299-ea6a-a70a36a5099f"
      },
      "execution_count": null,
      "outputs": [
        {
          "output_type": "stream",
          "name": "stdout",
          "text": [
            "2D Array (votes, costs):\n",
            " [[ 775.  800.]\n",
            " [ 787.  800.]\n",
            " [ 918.  800.]\n",
            " [  88.  300.]\n",
            " [ 166.  600.]\n",
            " [ 286.  600.]\n",
            " [2556.  600.]\n",
            " [ 324.  700.]\n",
            " [ 504.  550.]\n",
            " [ 402.  500.]\n",
            " [ 150.  600.]\n",
            " [ 164.  500.]\n",
            " [ 424.  450.]\n",
            " [ 918.  800.]\n",
            " [  90.  650.]\n",
            " [ 133.  800.]\n",
            " [ 144.  700.]\n",
            " [  93.  300.]\n",
            " [  62.  400.]\n",
            " [ 180.  500.]\n",
            " [  62.  600.]\n",
            " [ 148.  550.]\n",
            " [ 219.  600.]\n",
            " [ 506.  500.]\n",
            " [ 172.  750.]\n",
            " [ 415.  500.]\n",
            " [ 230.  650.]\n",
            " [1647.  600.]\n",
            " [4884.  750.]\n",
            " [ 133.  200.]\n",
            " [ 286.  500.]\n",
            " [ 540.  800.]\n",
            " [2556.  600.]\n",
            " [  36.  400.]\n",
            " [ 244.  300.]\n",
            " [ 804.  450.]\n",
            " [ 679.  850.]\n",
            " [ 245.  300.]\n",
            " [ 345.  400.]\n",
            " [ 618.  750.]\n",
            " [1047.  450.]\n",
            " [ 627.  450.]\n",
            " [ 354.  800.]\n",
            " [ 244.  800.]\n",
            " [ 163.  800.]\n",
            " [ 808.  850.]\n",
            " [1720.  400.]\n",
            " [ 868. 1200.]\n",
            " [ 520.  300.]\n",
            " [ 299.  300.]]\n",
            "Shape: (50, 2)\n",
            "Dimensions: 2\n"
          ]
        }
      ]
    },
    {
      "cell_type": "code",
      "source": [
        "restaurants_data[:5,:]"
      ],
      "metadata": {
        "colab": {
          "base_uri": "https://localhost:8080/"
        },
        "id": "baoOPbQi-fYw",
        "outputId": "a161161f-4756-4c00-f0a1-264403549454"
      },
      "execution_count": null,
      "outputs": [
        {
          "output_type": "execute_result",
          "data": {
            "text/plain": [
              "array([[775., 800.],\n",
              "       [787., 800.],\n",
              "       [918., 800.],\n",
              "       [ 88., 300.],\n",
              "       [166., 600.]])"
            ]
          },
          "metadata": {},
          "execution_count": 5
        }
      ]
    },
    {
      "cell_type": "code",
      "source": [],
      "metadata": {
        "id": "J3ZD0V6HBUq5"
      },
      "execution_count": null,
      "outputs": []
    },
    {
      "cell_type": "code",
      "source": [
        "# get 4th to 10 row of 2nd column\n",
        "print(restaurants_data[3:10,1])\n",
        "print(restaurants_data[3:10,1:])"
      ],
      "metadata": {
        "colab": {
          "base_uri": "https://localhost:8080/"
        },
        "id": "Sb1Idr6h_cK5",
        "outputId": "efcf6172-6ed2-4cfc-bb9c-bffa60e746ae"
      },
      "execution_count": null,
      "outputs": [
        {
          "output_type": "execute_result",
          "data": {
            "text/plain": [
              "array([[300.],\n",
              "       [600.],\n",
              "       [600.],\n",
              "       [600.],\n",
              "       [700.],\n",
              "       [550.],\n",
              "       [500.]])"
            ]
          },
          "metadata": {},
          "execution_count": 8
        }
      ]
    },
    {
      "cell_type": "markdown",
      "source": [
        "# Aggregate functions"
      ],
      "metadata": {
        "id": "YW2ePdZJBr6U"
      }
    },
    {
      "cell_type": "code",
      "source": [
        "restaurants_data"
      ],
      "metadata": {
        "colab": {
          "base_uri": "https://localhost:8080/"
        },
        "id": "-6fjrjk4DD9Z",
        "outputId": "62b1ddd2-4932-4563-898b-bd9c243c6bb6"
      },
      "execution_count": null,
      "outputs": [
        {
          "output_type": "execute_result",
          "data": {
            "text/plain": [
              "array([[ 775.,  800.],\n",
              "       [ 787.,  800.],\n",
              "       [ 918.,  800.],\n",
              "       [  88.,  300.],\n",
              "       [ 166.,  600.],\n",
              "       [ 286.,  600.],\n",
              "       [2556.,  600.],\n",
              "       [ 324.,  700.],\n",
              "       [ 504.,  550.],\n",
              "       [ 402.,  500.],\n",
              "       [ 150.,  600.],\n",
              "       [ 164.,  500.],\n",
              "       [ 424.,  450.],\n",
              "       [ 918.,  800.],\n",
              "       [  90.,  650.],\n",
              "       [ 133.,  800.],\n",
              "       [ 144.,  700.],\n",
              "       [  93.,  300.],\n",
              "       [  62.,  400.],\n",
              "       [ 180.,  500.],\n",
              "       [  62.,  600.],\n",
              "       [ 148.,  550.],\n",
              "       [ 219.,  600.],\n",
              "       [ 506.,  500.],\n",
              "       [ 172.,  750.],\n",
              "       [ 415.,  500.],\n",
              "       [ 230.,  650.],\n",
              "       [1647.,  600.],\n",
              "       [4884.,  750.],\n",
              "       [ 133.,  200.],\n",
              "       [ 286.,  500.],\n",
              "       [ 540.,  800.],\n",
              "       [2556.,  600.],\n",
              "       [  36.,  400.],\n",
              "       [ 244.,  300.],\n",
              "       [ 804.,  450.],\n",
              "       [ 679.,  850.],\n",
              "       [ 245.,  300.],\n",
              "       [ 345.,  400.],\n",
              "       [ 618.,  750.],\n",
              "       [1047.,  450.],\n",
              "       [ 627.,  450.],\n",
              "       [ 354.,  800.],\n",
              "       [ 244.,  800.],\n",
              "       [ 163.,  800.],\n",
              "       [ 808.,  850.],\n",
              "       [1720.,  400.],\n",
              "       [ 868., 1200.],\n",
              "       [ 520.,  300.],\n",
              "       [ 299.,  300.]])"
            ]
          },
          "metadata": {},
          "execution_count": 16
        }
      ]
    },
    {
      "cell_type": "code",
      "source": [
        "np.sum(restaurants_data[:,0])"
      ],
      "metadata": {
        "colab": {
          "base_uri": "https://localhost:8080/"
        },
        "id": "xPti0z0pAzLi",
        "outputId": "749f6706-275b-4bf8-8055-fa4471e1a164"
      },
      "execution_count": null,
      "outputs": [
        {
          "output_type": "execute_result",
          "data": {
            "text/plain": [
              "np.float64(30583.0)"
            ]
          },
          "metadata": {},
          "execution_count": 18
        }
      ]
    },
    {
      "cell_type": "code",
      "source": [
        "restaurants_data[:,0].sum()"
      ],
      "metadata": {
        "colab": {
          "base_uri": "https://localhost:8080/"
        },
        "id": "pcqjFnqECI70",
        "outputId": "470b4555-d7bc-4b64-a75b-0275e43604e8"
      },
      "execution_count": null,
      "outputs": [
        {
          "output_type": "execute_result",
          "data": {
            "text/plain": [
              "np.float64(30583.0)"
            ]
          },
          "metadata": {},
          "execution_count": 19
        }
      ]
    },
    {
      "cell_type": "code",
      "source": [
        "#average cost of 10 restaurants\n",
        "restaurants_data[:10,1].mean()"
      ],
      "metadata": {
        "colab": {
          "base_uri": "https://localhost:8080/"
        },
        "id": "mEqJpHzODvY4",
        "outputId": "434a1bcf-04a9-4082-d2b3-737a8fa39c57"
      },
      "execution_count": null,
      "outputs": [
        {
          "output_type": "execute_result",
          "data": {
            "text/plain": [
              "np.float64(625.0)"
            ]
          },
          "metadata": {},
          "execution_count": 20
        }
      ]
    },
    {
      "cell_type": "code",
      "source": [
        "# min and max vote\n",
        "print(restaurants_data[,0].min())\n",
        "print(restaurants_data[:,0].max())"
      ],
      "metadata": {
        "colab": {
          "base_uri": "https://localhost:8080/"
        },
        "id": "VNZ9Y3iIE37J",
        "outputId": "f8d012ae-19ca-4d06-da99-b92c4c3368a0"
      },
      "execution_count": null,
      "outputs": [
        {
          "output_type": "stream",
          "name": "stdout",
          "text": [
            "36.0\n",
            "4884.0\n"
          ]
        }
      ]
    },
    {
      "cell_type": "code",
      "source": [
        "data = np.arange(12).reshape(3, 4)\n",
        "data"
      ],
      "metadata": {
        "colab": {
          "base_uri": "https://localhost:8080/"
        },
        "id": "p0suM82jFZsO",
        "outputId": "8fcb6f2e-c12d-413d-fccc-e25894066dec"
      },
      "execution_count": null,
      "outputs": [
        {
          "output_type": "execute_result",
          "data": {
            "text/plain": [
              "array([[ 0,  1,  2,  3],\n",
              "       [ 4,  5,  6,  7],\n",
              "       [ 8,  9, 10, 11]])"
            ]
          },
          "metadata": {},
          "execution_count": 22
        }
      ]
    },
    {
      "cell_type": "code",
      "source": [
        "np.sum(data, axis=0)"
      ],
      "metadata": {
        "colab": {
          "base_uri": "https://localhost:8080/"
        },
        "id": "IE_OFIJyGXSj",
        "outputId": "85083df0-61cd-420e-dd06-d0e55ee60e25"
      },
      "execution_count": null,
      "outputs": [
        {
          "output_type": "execute_result",
          "data": {
            "text/plain": [
              "array([12, 15, 18, 21])"
            ]
          },
          "metadata": {},
          "execution_count": 25
        }
      ]
    },
    {
      "cell_type": "code",
      "source": [
        "np.sum(data,axis=1)"
      ],
      "metadata": {
        "colab": {
          "base_uri": "https://localhost:8080/"
        },
        "id": "A2lhqPbGGfrx",
        "outputId": "c6864904-ae10-41e8-d7d7-3e27f9deaa48"
      },
      "execution_count": null,
      "outputs": [
        {
          "output_type": "execute_result",
          "data": {
            "text/plain": [
              "array([ 6, 22, 38])"
            ]
          },
          "metadata": {},
          "execution_count": 26
        }
      ]
    },
    {
      "cell_type": "markdown",
      "source": [
        "#Logical Operators"
      ],
      "metadata": {
        "id": "H7wHoTj9H8-K"
      }
    },
    {
      "cell_type": "code",
      "source": [
        "np.where(sample_costs > 700)"
      ],
      "metadata": {
        "colab": {
          "base_uri": "https://localhost:8080/"
        },
        "id": "ZElOp4i9G9Jh",
        "outputId": "36e8b3f8-e5ac-484c-f35d-addb0fbb3674"
      },
      "execution_count": null,
      "outputs": [
        {
          "output_type": "execute_result",
          "data": {
            "text/plain": [
              "(array([ 0,  1,  2, 13, 15, 24, 28, 31, 36, 39, 42, 43, 44, 45, 47]),)"
            ]
          },
          "metadata": {},
          "execution_count": 30
        }
      ]
    },
    {
      "cell_type": "code",
      "source": [
        "sample_costs[np.where(sample_costs > 700)]"
      ],
      "metadata": {
        "colab": {
          "base_uri": "https://localhost:8080/"
        },
        "id": "1bFy-IuqITcT",
        "outputId": "1e686b76-a186-48e2-fb13-70d59a2356fe"
      },
      "execution_count": null,
      "outputs": [
        {
          "output_type": "execute_result",
          "data": {
            "text/plain": [
              "array([ 800.,  800.,  800.,  800.,  800.,  750.,  750.,  800.,  850.,\n",
              "        750.,  800.,  800.,  800.,  850., 1200.])"
            ]
          },
          "metadata": {},
          "execution_count": 31
        }
      ]
    },
    {
      "cell_type": "code",
      "source": [
        "sample_costs[np.where((sample_costs > 500) & (sample_costs < 1000))]"
      ],
      "metadata": {
        "colab": {
          "base_uri": "https://localhost:8080/"
        },
        "id": "4Q-TVVlDIvRm",
        "outputId": "72cc958b-08b3-452c-b8ce-ec9c9c99597a"
      },
      "execution_count": null,
      "outputs": [
        {
          "output_type": "execute_result",
          "data": {
            "text/plain": [
              "array([800., 800., 800., 600., 600., 600., 700., 550., 600., 800., 650.,\n",
              "       800., 700., 600., 550., 600., 750., 650., 600., 750., 800., 600.,\n",
              "       850., 750., 800., 800., 800., 850.])"
            ]
          },
          "metadata": {},
          "execution_count": 40
        }
      ]
    },
    {
      "cell_type": "code",
      "source": [
        "True and False"
      ],
      "metadata": {
        "colab": {
          "base_uri": "https://localhost:8080/"
        },
        "id": "sc3ay6oNJdlu",
        "outputId": "ac99d766-0d7e-485d-c973-9da19b837305"
      },
      "execution_count": null,
      "outputs": [
        {
          "output_type": "execute_result",
          "data": {
            "text/plain": [
              "False"
            ]
          },
          "metadata": {},
          "execution_count": 34
        }
      ]
    },
    {
      "cell_type": "code",
      "source": [
        "# Are there any restaurants with cost > 3000?\n",
        "np.any(sample_costs > 800)"
      ],
      "metadata": {
        "colab": {
          "base_uri": "https://localhost:8080/"
        },
        "id": "7J36kAyiKPHZ",
        "outputId": "422d7cb4-4b2d-474b-dc1f-609593af9028"
      },
      "execution_count": null,
      "outputs": [
        {
          "output_type": "execute_result",
          "data": {
            "text/plain": [
              "np.True_"
            ]
          },
          "metadata": {},
          "execution_count": 36
        }
      ]
    },
    {
      "cell_type": "code",
      "source": [
        "# Are all restaurants with cost > 800?\n",
        "np.all(sample_costs > 800)"
      ],
      "metadata": {
        "colab": {
          "base_uri": "https://localhost:8080/"
        },
        "id": "NSJuusX7Kxuu",
        "outputId": "3fbc7d81-5321-407e-967c-b6c65a612477"
      },
      "execution_count": null,
      "outputs": [
        {
          "output_type": "execute_result",
          "data": {
            "text/plain": [
              "np.False_"
            ]
          },
          "metadata": {},
          "execution_count": 37
        }
      ]
    },
    {
      "cell_type": "code",
      "source": [
        "np.all(sample_costs > 100)"
      ],
      "metadata": {
        "colab": {
          "base_uri": "https://localhost:8080/"
        },
        "id": "aeHQjylMLDKl",
        "outputId": "c3ce9927-9ff3-4b1e-c797-de50c120a6e4"
      },
      "execution_count": null,
      "outputs": [
        {
          "output_type": "execute_result",
          "data": {
            "text/plain": [
              "np.True_"
            ]
          },
          "metadata": {},
          "execution_count": 39
        }
      ]
    },
    {
      "cell_type": "code",
      "source": [
        "\n",
        "# Extracting numeric data as NumPy arrays for future analysis\n",
        "votes = np.array([ 775,  787,  918,   88,  166,  286, 2556,  324,  504,  402])\n",
        "costs = np.array([\"'800.0'\" ,\"'800.0'\", \"'800.0'\", \"'300.0'\", \"'600.0'\", \"'600.0'\", \"'600.0'\", \"'700.0'\" ,\"'550.0'\", \"'500.0'\"])\n",
        "rate = np.array([4.1, 3.8, 4.0, 2.6, 1.1, 3.5, 4.7, 2.5, 2.8, 3.4])\n",
        "\n",
        "print(\"Votes (Array):\", votes)\n",
        "print(\"Costs (Array):\", costs)\n",
        "print(\"Ratings (Array):\", rate)"
      ],
      "metadata": {
        "colab": {
          "base_uri": "https://localhost:8080/"
        },
        "id": "VYhgOmpiLHWq",
        "outputId": "19d93c20-b375-4824-908b-d2ffef7c9108"
      },
      "execution_count": null,
      "outputs": [
        {
          "output_type": "stream",
          "name": "stdout",
          "text": [
            "Votes (Array): [ 775  787  918   88  166  286 2556  324  504  402]\n",
            "Costs (Array): [\"'800.0'\" \"'800.0'\" \"'800.0'\" \"'300.0'\" \"'600.0'\" \"'600.0'\" \"'600.0'\"\n",
            " \"'700.0'\" \"'550.0'\" \"'500.0'\"]\n",
            "Ratings (Array): [4.1 3.8 4.  2.6 1.1 3.5 4.7 2.5 2.8 3.4]\n"
          ]
        }
      ]
    },
    {
      "cell_type": "code",
      "source": [
        "\n",
        "# Your numeric_data array\n",
        "numeric_data = np.array([\n",
        "    [4.1, 775.0, 800.0],\n",
        "    [3.8, 787.0, 800.0],\n",
        "    [4.0, 918.0, 800.0],\n",
        "    [2.6, 88.0, 300.0],\n",
        "    [1.1, 166.0, 600.0],\n",
        "    [3.5, 286.0, 600.0],\n",
        "    [4.7, 2556.0, 600.0],\n",
        "    [2.5, 324.0, 700.0],\n",
        "    [2.8, 504.0, 550.0],\n",
        "    [3.4, 402.0, 500.0]\n",
        "])\n",
        "\n",
        "# Just to display in a good way\n",
        "# Set print options to suppress scientific notation\n",
        "np.set_printoptions(suppress=True, precision=1)\n",
        "\n",
        "# Print the array\n",
        "print(\"Numeric data (formatted):\")\n",
        "print(numeric_data)"
      ],
      "metadata": {
        "colab": {
          "base_uri": "https://localhost:8080/"
        },
        "id": "lfvrkLCnOHC8",
        "outputId": "138b5d0c-fcd9-4ea8-91fc-9c653559445b"
      },
      "execution_count": null,
      "outputs": [
        {
          "output_type": "stream",
          "name": "stdout",
          "text": [
            "Numeric data (formatted):\n",
            "[[   4.1  775.   800. ]\n",
            " [   3.8  787.   800. ]\n",
            " [   4.   918.   800. ]\n",
            " [   2.6   88.   300. ]\n",
            " [   1.1  166.   600. ]\n",
            " [   3.5  286.   600. ]\n",
            " [   4.7 2556.   600. ]\n",
            " [   2.5  324.   700. ]\n",
            " [   2.8  504.   550. ]\n",
            " [   3.4  402.   500. ]]\n"
          ]
        }
      ]
    },
    {
      "cell_type": "code",
      "source": [
        "np.sort(votes)"
      ],
      "metadata": {
        "colab": {
          "base_uri": "https://localhost:8080/"
        },
        "id": "maOVu0aDOUOK",
        "outputId": "6709f373-b6fb-4f8d-aad6-8c26d259bedf"
      },
      "execution_count": null,
      "outputs": [
        {
          "output_type": "execute_result",
          "data": {
            "text/plain": [
              "array([  88,  166,  286,  324,  402,  504,  775,  787,  918, 2556])"
            ]
          },
          "metadata": {},
          "execution_count": 43
        }
      ]
    },
    {
      "cell_type": "code",
      "source": [
        "np.argsort(votes)"
      ],
      "metadata": {
        "colab": {
          "base_uri": "https://localhost:8080/"
        },
        "id": "C03Ndvf0OmX7",
        "outputId": "4be25fb5-d24d-4d0a-cc4e-d600e8a06626"
      },
      "execution_count": null,
      "outputs": [
        {
          "output_type": "execute_result",
          "data": {
            "text/plain": [
              "array([3, 4, 5, 7, 9, 8, 0, 1, 2, 6])"
            ]
          },
          "metadata": {},
          "execution_count": 44
        }
      ]
    },
    {
      "cell_type": "code",
      "source": [
        "array_2d = np.array([[34, 11, 8],\n",
        "                     [7, 45, 18],\n",
        "                     [9, 23, 20]])\n",
        "\n",
        "np.sort(array_2d)"
      ],
      "metadata": {
        "colab": {
          "base_uri": "https://localhost:8080/"
        },
        "id": "23e2MJevOwfl",
        "outputId": "279b3b3c-6b04-4953-9b27-49c3c2d83008"
      },
      "execution_count": null,
      "outputs": [
        {
          "output_type": "execute_result",
          "data": {
            "text/plain": [
              "array([[ 8, 11, 34],\n",
              "       [ 7, 18, 45],\n",
              "       [ 9, 20, 23]])"
            ]
          },
          "metadata": {},
          "execution_count": 45
        }
      ]
    },
    {
      "cell_type": "code",
      "source": [
        "np.sort(array_2d, axis=0)"
      ],
      "metadata": {
        "colab": {
          "base_uri": "https://localhost:8080/"
        },
        "id": "FYQ_K1YxPb5M",
        "outputId": "6149c1c1-5cb3-4a2f-8c5b-090ad99d7c38"
      },
      "execution_count": null,
      "outputs": [
        {
          "output_type": "execute_result",
          "data": {
            "text/plain": [
              "array([[ 7, 11,  8],\n",
              "       [ 9, 23, 18],\n",
              "       [34, 45, 20]])"
            ]
          },
          "metadata": {},
          "execution_count": 47
        }
      ]
    },
    {
      "cell_type": "markdown",
      "source": [
        "# Matrix Operations"
      ],
      "metadata": {
        "id": "hGx-wLSDRixJ"
      }
    },
    {
      "cell_type": "code",
      "source": [
        "votes * rate # element-wise multiplication"
      ],
      "metadata": {
        "colab": {
          "base_uri": "https://localhost:8080/"
        },
        "id": "zSdEbiz4Pxwy",
        "outputId": "61ac8ba5-68d3-4472-99e9-77da33d228e4"
      },
      "execution_count": null,
      "outputs": [
        {
          "output_type": "execute_result",
          "data": {
            "text/plain": [
              "array([ 3177.5,  2990.6,  3672. ,   228.8,   182.6,  1001. , 12013.2,\n",
              "         810. ,  1411.2,  1366.8])"
            ]
          },
          "metadata": {},
          "execution_count": 48
        }
      ]
    },
    {
      "cell_type": "code",
      "source": [
        "votes * 2"
      ],
      "metadata": {
        "colab": {
          "base_uri": "https://localhost:8080/"
        },
        "id": "x6pnqW4RSBlo",
        "outputId": "42a7d9fe-bc3b-4f45-81f9-e03abe16cde7"
      },
      "execution_count": null,
      "outputs": [
        {
          "output_type": "execute_result",
          "data": {
            "text/plain": [
              "array([1550, 1574, 1836,  176,  332,  572, 5112,  648, 1008,  804])"
            ]
          },
          "metadata": {},
          "execution_count": 49
        }
      ]
    },
    {
      "cell_type": "code",
      "source": [
        "transformation_matrix = np.array([[1.2, 0.8, 0.5],\n",
        "                                   [0.5, 1.5, 1.0],\n",
        "                                   [0.7, 0.6, 1.8]])"
      ],
      "metadata": {
        "id": "_lhvkPjTSSPn"
      },
      "execution_count": null,
      "outputs": []
    },
    {
      "cell_type": "code",
      "source": [
        "numeric_data"
      ],
      "metadata": {
        "colab": {
          "base_uri": "https://localhost:8080/"
        },
        "id": "vJQ1Lh6MSppA",
        "outputId": "5f833af9-966a-4a91-f5e9-2784e0070579"
      },
      "execution_count": null,
      "outputs": [
        {
          "output_type": "execute_result",
          "data": {
            "text/plain": [
              "array([[   4.1,  775. ,  800. ],\n",
              "       [   3.8,  787. ,  800. ],\n",
              "       [   4. ,  918. ,  800. ],\n",
              "       [   2.6,   88. ,  300. ],\n",
              "       [   1.1,  166. ,  600. ],\n",
              "       [   3.5,  286. ,  600. ],\n",
              "       [   4.7, 2556. ,  600. ],\n",
              "       [   2.5,  324. ,  700. ],\n",
              "       [   2.8,  504. ,  550. ],\n",
              "       [   3.4,  402. ,  500. ]])"
            ]
          },
          "metadata": {},
          "execution_count": 51
        }
      ]
    },
    {
      "cell_type": "code",
      "source": [
        "# method 1\n",
        "np.dot(numeric_data, transformation_matrix)"
      ],
      "metadata": {
        "colab": {
          "base_uri": "https://localhost:8080/"
        },
        "id": "ug4DTSBpSr6d",
        "outputId": "ca6307b7-88e5-4a96-ac39-a73d9a254cff"
      },
      "execution_count": null,
      "outputs": [
        {
          "output_type": "execute_result",
          "data": {
            "text/plain": [
              "array([[ 952.4, 1645.8, 2217.1],\n",
              "       [ 958.1, 1663.5, 2228.9],\n",
              "       [1023.8, 1860.2, 2360. ],\n",
              "       [ 257.1,  314.1,  629.3],\n",
              "       [ 504.3,  609.9, 1246.5],\n",
              "       [ 567.2,  791.8, 1367.8],\n",
              "       [1703.6, 4197.8, 3638.3],\n",
              "       [ 655. ,  908. , 1585.2],\n",
              "       [ 640.4, 1088.2, 1495.4],\n",
              "       [ 555.1,  905.7, 1303.7]])"
            ]
          },
          "metadata": {},
          "execution_count": 52
        }
      ]
    },
    {
      "cell_type": "code",
      "source": [
        "# method 2\n",
        "np.matmul(numeric_data, transformation_matrix)"
      ],
      "metadata": {
        "colab": {
          "base_uri": "https://localhost:8080/"
        },
        "id": "kMbJeFo1THDL",
        "outputId": "69e70abc-d9a1-4f7a-d6f6-2aa125edad5c"
      },
      "execution_count": null,
      "outputs": [
        {
          "output_type": "execute_result",
          "data": {
            "text/plain": [
              "array([[ 952.4, 1645.8, 2217.1],\n",
              "       [ 958.1, 1663.5, 2228.9],\n",
              "       [1023.8, 1860.2, 2360. ],\n",
              "       [ 257.1,  314.1,  629.3],\n",
              "       [ 504.3,  609.9, 1246.5],\n",
              "       [ 567.2,  791.8, 1367.8],\n",
              "       [1703.6, 4197.8, 3638.3],\n",
              "       [ 655. ,  908. , 1585.2],\n",
              "       [ 640.4, 1088.2, 1495.4],\n",
              "       [ 555.1,  905.7, 1303.7]])"
            ]
          },
          "metadata": {},
          "execution_count": 53
        }
      ]
    },
    {
      "cell_type": "code",
      "source": [
        "# method 3\n",
        "numeric_data @ transformation_matrix"
      ],
      "metadata": {
        "colab": {
          "base_uri": "https://localhost:8080/"
        },
        "id": "1swe4H5HTLwP",
        "outputId": "99fb795d-7ee8-4359-f7d9-083603b51cc1"
      },
      "execution_count": null,
      "outputs": [
        {
          "output_type": "execute_result",
          "data": {
            "text/plain": [
              "array([[ 952.4, 1645.8, 2217.1],\n",
              "       [ 958.1, 1663.5, 2228.9],\n",
              "       [1023.8, 1860.2, 2360. ],\n",
              "       [ 257.1,  314.1,  629.3],\n",
              "       [ 504.3,  609.9, 1246.5],\n",
              "       [ 567.2,  791.8, 1367.8],\n",
              "       [1703.6, 4197.8, 3638.3],\n",
              "       [ 655. ,  908. , 1585.2],\n",
              "       [ 640.4, 1088.2, 1495.4],\n",
              "       [ 555.1,  905.7, 1303.7]])"
            ]
          },
          "metadata": {},
          "execution_count": 54
        }
      ]
    },
    {
      "cell_type": "code",
      "source": [
        "a = np.array([1,2,3,4])\n",
        "\n",
        "a@5"
      ],
      "metadata": {
        "colab": {
          "base_uri": "https://localhost:8080/",
          "height": 176
        },
        "id": "KbX5hRCMTUZj",
        "outputId": "1bde4c18-f930-4832-a2c9-915aed43074e"
      },
      "execution_count": null,
      "outputs": [
        {
          "output_type": "error",
          "ename": "ValueError",
          "evalue": "matmul: Input operand 1 does not have enough dimensions (has 0, gufunc core with signature (n?,k),(k,m?)->(n?,m?) requires 1)",
          "traceback": [
            "\u001b[0;31m---------------------------------------------------------------------------\u001b[0m",
            "\u001b[0;31mValueError\u001b[0m                                Traceback (most recent call last)",
            "\u001b[0;32m/tmp/ipython-input-55-3532820243.py\u001b[0m in \u001b[0;36m<cell line: 0>\u001b[0;34m()\u001b[0m\n\u001b[1;32m      1\u001b[0m \u001b[0ma\u001b[0m \u001b[0;34m=\u001b[0m \u001b[0mnp\u001b[0m\u001b[0;34m.\u001b[0m\u001b[0marray\u001b[0m\u001b[0;34m(\u001b[0m\u001b[0;34m[\u001b[0m\u001b[0;36m1\u001b[0m\u001b[0;34m,\u001b[0m\u001b[0;36m2\u001b[0m\u001b[0;34m,\u001b[0m\u001b[0;36m3\u001b[0m\u001b[0;34m,\u001b[0m\u001b[0;36m4\u001b[0m\u001b[0;34m]\u001b[0m\u001b[0;34m)\u001b[0m\u001b[0;34m\u001b[0m\u001b[0;34m\u001b[0m\u001b[0m\n\u001b[1;32m      2\u001b[0m \u001b[0;34m\u001b[0m\u001b[0m\n\u001b[0;32m----> 3\u001b[0;31m \u001b[0ma\u001b[0m\u001b[0;34m@\u001b[0m\u001b[0;36m5\u001b[0m\u001b[0;34m\u001b[0m\u001b[0;34m\u001b[0m\u001b[0m\n\u001b[0m",
            "\u001b[0;31mValueError\u001b[0m: matmul: Input operand 1 does not have enough dimensions (has 0, gufunc core with signature (n?,k),(k,m?)->(n?,m?) requires 1)"
          ]
        }
      ]
    },
    {
      "cell_type": "code",
      "source": [
        "np.matmul(a, 5)"
      ],
      "metadata": {
        "colab": {
          "base_uri": "https://localhost:8080/",
          "height": 141
        },
        "id": "T4G6MqzgUzJh",
        "outputId": "78f67b44-55b9-42c1-b5e7-4ce7f78686d2"
      },
      "execution_count": null,
      "outputs": [
        {
          "output_type": "error",
          "ename": "ValueError",
          "evalue": "matmul: Input operand 1 does not have enough dimensions (has 0, gufunc core with signature (n?,k),(k,m?)->(n?,m?) requires 1)",
          "traceback": [
            "\u001b[0;31m---------------------------------------------------------------------------\u001b[0m",
            "\u001b[0;31mValueError\u001b[0m                                Traceback (most recent call last)",
            "\u001b[0;32m/tmp/ipython-input-56-2308400740.py\u001b[0m in \u001b[0;36m<cell line: 0>\u001b[0;34m()\u001b[0m\n\u001b[0;32m----> 1\u001b[0;31m \u001b[0mnp\u001b[0m\u001b[0;34m.\u001b[0m\u001b[0mmatmul\u001b[0m\u001b[0;34m(\u001b[0m\u001b[0ma\u001b[0m\u001b[0;34m,\u001b[0m \u001b[0;36m5\u001b[0m\u001b[0;34m)\u001b[0m\u001b[0;34m\u001b[0m\u001b[0;34m\u001b[0m\u001b[0m\n\u001b[0m",
            "\u001b[0;31mValueError\u001b[0m: matmul: Input operand 1 does not have enough dimensions (has 0, gufunc core with signature (n?,k),(k,m?)->(n?,m?) requires 1)"
          ]
        }
      ]
    },
    {
      "cell_type": "code",
      "source": [
        "a @ np.array([5])"
      ],
      "metadata": {
        "colab": {
          "base_uri": "https://localhost:8080/",
          "height": 141
        },
        "id": "UOVLMUerc_z8",
        "outputId": "4514241a-24fc-4663-ec8b-4f26b0bb9434"
      },
      "execution_count": null,
      "outputs": [
        {
          "output_type": "error",
          "ename": "ValueError",
          "evalue": "matmul: Input operand 1 has a mismatch in its core dimension 0, with gufunc signature (n?,k),(k,m?)->(n?,m?) (size 1 is different from 4)",
          "traceback": [
            "\u001b[0;31m---------------------------------------------------------------------------\u001b[0m",
            "\u001b[0;31mValueError\u001b[0m                                Traceback (most recent call last)",
            "\u001b[0;32m/tmp/ipython-input-73-3228443953.py\u001b[0m in \u001b[0;36m<cell line: 0>\u001b[0;34m()\u001b[0m\n\u001b[0;32m----> 1\u001b[0;31m \u001b[0ma\u001b[0m \u001b[0;34m@\u001b[0m \u001b[0mnp\u001b[0m\u001b[0;34m.\u001b[0m\u001b[0marray\u001b[0m\u001b[0;34m(\u001b[0m\u001b[0;34m[\u001b[0m\u001b[0;36m5\u001b[0m\u001b[0;34m]\u001b[0m\u001b[0;34m)\u001b[0m\u001b[0;34m\u001b[0m\u001b[0;34m\u001b[0m\u001b[0m\n\u001b[0m",
            "\u001b[0;31mValueError\u001b[0m: matmul: Input operand 1 has a mismatch in its core dimension 0, with gufunc signature (n?,k),(k,m?)->(n?,m?) (size 1 is different from 4)"
          ]
        }
      ]
    },
    {
      "cell_type": "code",
      "source": [
        "np.array([[1],[2],[3],[4]]) @ np.array([5])"
      ],
      "metadata": {
        "colab": {
          "base_uri": "https://localhost:8080/"
        },
        "id": "AcQuSZNQdR2f",
        "outputId": "28e0eb30-1e05-41d0-b467-c4ddde8f1b91"
      },
      "execution_count": null,
      "outputs": [
        {
          "output_type": "execute_result",
          "data": {
            "text/plain": [
              "array([ 5, 10, 15, 20])"
            ]
          },
          "metadata": {},
          "execution_count": 76
        }
      ]
    },
    {
      "cell_type": "code",
      "source": [
        "np.dot(a, 5)"
      ],
      "metadata": {
        "colab": {
          "base_uri": "https://localhost:8080/"
        },
        "id": "PPwIMLePU4WL",
        "outputId": "d2319c4d-a4ef-47f5-c981-7a3781f3099c"
      },
      "execution_count": null,
      "outputs": [
        {
          "output_type": "execute_result",
          "data": {
            "text/plain": [
              "array([ 5, 10, 15, 20])"
            ]
          },
          "metadata": {},
          "execution_count": 57
        }
      ]
    },
    {
      "cell_type": "markdown",
      "source": [
        "# Broadcasting"
      ],
      "metadata": {
        "id": "SgpVTOHpVIZe"
      }
    },
    {
      "cell_type": "code",
      "source": [
        "array_2d = np.array([[1, 2, 3], [4, 5, 6]])\n",
        "scalar = 10"
      ],
      "metadata": {
        "id": "9fn6DtYuVBLV"
      },
      "execution_count": null,
      "outputs": []
    },
    {
      "cell_type": "code",
      "source": [
        "array_2d + scalar"
      ],
      "metadata": {
        "colab": {
          "base_uri": "https://localhost:8080/"
        },
        "id": "kEdYIZFHVxuj",
        "outputId": "0fc7368c-6ac5-4b15-f6a0-218904cc5100"
      },
      "execution_count": null,
      "outputs": [
        {
          "output_type": "execute_result",
          "data": {
            "text/plain": [
              "array([[11, 12, 13],\n",
              "       [14, 15, 16]])"
            ]
          },
          "metadata": {},
          "execution_count": 59
        }
      ]
    },
    {
      "cell_type": "code",
      "source": [
        "array_2d = np.array([[1, 2, 3], [4, 5, 6]])\n",
        "array_1d = np.array([10, 20, 30])\n",
        "\n",
        "result = array_2d + array_1d"
      ],
      "metadata": {
        "id": "guG3YsfyV23y"
      },
      "execution_count": null,
      "outputs": []
    },
    {
      "cell_type": "code",
      "source": [
        "print(f\"{array_2d} + {array_1d} =\")\n",
        "print(\"---\"* 10)\n",
        "print(result)"
      ],
      "metadata": {
        "colab": {
          "base_uri": "https://localhost:8080/"
        },
        "id": "KeOZyOlzWKs2",
        "outputId": "2841f238-b800-4318-86fa-835f3bad2a51"
      },
      "execution_count": null,
      "outputs": [
        {
          "output_type": "stream",
          "name": "stdout",
          "text": [
            "[[1 2 3]\n",
            " [4 5 6]] + [10 20 30] =\n",
            "------------------------------\n",
            "[[11 22 33]\n",
            " [14 25 36]]\n"
          ]
        }
      ]
    },
    {
      "cell_type": "code",
      "source": [
        "# Column matrix (3x1) and row matrix (1x3)\n",
        "col_matrix = np.array([[1], [2], [3]])\n",
        "row_matrix = np.array([[10, 20, 30]])\n",
        "\n",
        "# Broadcasting works\n",
        "result = col_matrix + row_matrix\n",
        "\n",
        "print(f\"{col_matrix} + {row_matrix} =\")\n",
        "print(\"---\"* 10)\n",
        "print(result)"
      ],
      "metadata": {
        "colab": {
          "base_uri": "https://localhost:8080/"
        },
        "id": "sx4KHCoyXL0S",
        "outputId": "8e49eca4-2515-4dd4-ad40-09db362d511e"
      },
      "execution_count": null,
      "outputs": [
        {
          "output_type": "stream",
          "name": "stdout",
          "text": [
            "[[1]\n",
            " [2]\n",
            " [3]] + [[10 20 30]] =\n",
            "------------------------------\n",
            "[[11 21 31]\n",
            " [12 22 32]\n",
            " [13 23 33]]\n"
          ]
        }
      ]
    },
    {
      "cell_type": "code",
      "source": [
        "array1 = np.array([1, 2, 3])\n",
        "array2 = np.array([[1, 2], [3, 4]])\n",
        "\n",
        "result = array1 + array2\n",
        "result"
      ],
      "metadata": {
        "colab": {
          "base_uri": "https://localhost:8080/",
          "height": 193
        },
        "id": "Ah18KhRpWO8b",
        "outputId": "d7b2b783-2e88-4096-d9a1-26a5ce397c4c"
      },
      "execution_count": null,
      "outputs": [
        {
          "output_type": "error",
          "ename": "ValueError",
          "evalue": "operands could not be broadcast together with shapes (3,) (2,2) ",
          "traceback": [
            "\u001b[0;31m---------------------------------------------------------------------------\u001b[0m",
            "\u001b[0;31mValueError\u001b[0m                                Traceback (most recent call last)",
            "\u001b[0;32m/tmp/ipython-input-64-2128882229.py\u001b[0m in \u001b[0;36m<cell line: 0>\u001b[0;34m()\u001b[0m\n\u001b[1;32m      2\u001b[0m \u001b[0marray2\u001b[0m \u001b[0;34m=\u001b[0m \u001b[0mnp\u001b[0m\u001b[0;34m.\u001b[0m\u001b[0marray\u001b[0m\u001b[0;34m(\u001b[0m\u001b[0;34m[\u001b[0m\u001b[0;34m[\u001b[0m\u001b[0;36m1\u001b[0m\u001b[0;34m,\u001b[0m \u001b[0;36m2\u001b[0m\u001b[0;34m]\u001b[0m\u001b[0;34m,\u001b[0m \u001b[0;34m[\u001b[0m\u001b[0;36m3\u001b[0m\u001b[0;34m,\u001b[0m \u001b[0;36m4\u001b[0m\u001b[0;34m]\u001b[0m\u001b[0;34m]\u001b[0m\u001b[0;34m)\u001b[0m\u001b[0;34m\u001b[0m\u001b[0;34m\u001b[0m\u001b[0m\n\u001b[1;32m      3\u001b[0m \u001b[0;34m\u001b[0m\u001b[0m\n\u001b[0;32m----> 4\u001b[0;31m \u001b[0mresult\u001b[0m \u001b[0;34m=\u001b[0m \u001b[0marray1\u001b[0m \u001b[0;34m+\u001b[0m \u001b[0marray2\u001b[0m\u001b[0;34m\u001b[0m\u001b[0;34m\u001b[0m\u001b[0m\n\u001b[0m\u001b[1;32m      5\u001b[0m \u001b[0mresult\u001b[0m\u001b[0;34m\u001b[0m\u001b[0;34m\u001b[0m\u001b[0m\n",
            "\u001b[0;31mValueError\u001b[0m: operands could not be broadcast together with shapes (3,) (2,2) "
          ]
        }
      ]
    },
    {
      "cell_type": "code",
      "source": [
        "array1 = np.array([[1, 2, 3], [4, 5, 6]])\n",
        "array2 = np.array([[10], [20]])"
      ],
      "metadata": {
        "id": "PTkKvSN4XSxi"
      },
      "execution_count": null,
      "outputs": []
    },
    {
      "cell_type": "code",
      "source": [
        "print(array1.shape)\n",
        "print(array2.shape)"
      ],
      "metadata": {
        "colab": {
          "base_uri": "https://localhost:8080/"
        },
        "id": "NVItTN4RaJFL",
        "outputId": "feb80864-6936-469f-834e-020d6b1fbd43"
      },
      "execution_count": null,
      "outputs": [
        {
          "output_type": "stream",
          "name": "stdout",
          "text": [
            "(2, 3)\n",
            "(2, 1)\n"
          ]
        }
      ]
    },
    {
      "cell_type": "code",
      "source": [
        "array1 = np.array([[1, 2, 3]])\n",
        "array2 = np.array([[10], [20]])"
      ],
      "metadata": {
        "id": "mSiskFWnaMxe"
      },
      "execution_count": null,
      "outputs": []
    },
    {
      "cell_type": "code",
      "source": [
        "print(array1.shape)\n",
        "print(array2.shape)\n",
        "array1 + array2"
      ],
      "metadata": {
        "colab": {
          "base_uri": "https://localhost:8080/"
        },
        "id": "g4u0_1m2a2zs",
        "outputId": "00c9a759-0b4f-4f90-efe1-c49275473dff"
      },
      "execution_count": null,
      "outputs": [
        {
          "output_type": "stream",
          "name": "stdout",
          "text": [
            "(1, 3)\n",
            "(2, 1)\n"
          ]
        },
        {
          "output_type": "execute_result",
          "data": {
            "text/plain": [
              "array([[11, 12, 13],\n",
              "       [21, 22, 23]])"
            ]
          },
          "metadata": {},
          "execution_count": 71
        }
      ]
    },
    {
      "cell_type": "code",
      "source": [
        "array1 = np.array([[1, 2, 3], [4, 5, 6]])\n",
        "array2 = np.array([[10, 20]])\n",
        "print(array1.shape)\n",
        "print(array2.shape)\n",
        "result = array1 + array2\n",
        "result"
      ],
      "metadata": {
        "colab": {
          "base_uri": "https://localhost:8080/",
          "height": 228
        },
        "id": "e61oWQNHa5Ls",
        "outputId": "52a1e5a4-58d4-44b5-efb3-aaa8128d8856"
      },
      "execution_count": null,
      "outputs": [
        {
          "output_type": "stream",
          "name": "stdout",
          "text": [
            "(2, 3)\n",
            "(1, 2)\n"
          ]
        },
        {
          "output_type": "error",
          "ename": "ValueError",
          "evalue": "operands could not be broadcast together with shapes (2,3) (1,2) ",
          "traceback": [
            "\u001b[0;31m---------------------------------------------------------------------------\u001b[0m",
            "\u001b[0;31mValueError\u001b[0m                                Traceback (most recent call last)",
            "\u001b[0;32m/tmp/ipython-input-72-3689083754.py\u001b[0m in \u001b[0;36m<cell line: 0>\u001b[0;34m()\u001b[0m\n\u001b[1;32m      3\u001b[0m \u001b[0mprint\u001b[0m\u001b[0;34m(\u001b[0m\u001b[0marray1\u001b[0m\u001b[0;34m.\u001b[0m\u001b[0mshape\u001b[0m\u001b[0;34m)\u001b[0m\u001b[0;34m\u001b[0m\u001b[0;34m\u001b[0m\u001b[0m\n\u001b[1;32m      4\u001b[0m \u001b[0mprint\u001b[0m\u001b[0;34m(\u001b[0m\u001b[0marray2\u001b[0m\u001b[0;34m.\u001b[0m\u001b[0mshape\u001b[0m\u001b[0;34m)\u001b[0m\u001b[0;34m\u001b[0m\u001b[0;34m\u001b[0m\u001b[0m\n\u001b[0;32m----> 5\u001b[0;31m \u001b[0mresult\u001b[0m \u001b[0;34m=\u001b[0m \u001b[0marray1\u001b[0m \u001b[0;34m+\u001b[0m \u001b[0marray2\u001b[0m\u001b[0;34m\u001b[0m\u001b[0;34m\u001b[0m\u001b[0m\n\u001b[0m\u001b[1;32m      6\u001b[0m \u001b[0mresult\u001b[0m\u001b[0;34m\u001b[0m\u001b[0;34m\u001b[0m\u001b[0m\n",
            "\u001b[0;31mValueError\u001b[0m: operands could not be broadcast together with shapes (2,3) (1,2) "
          ]
        }
      ]
    },
    {
      "cell_type": "code",
      "source": [
        "np.sum([1,2,3])"
      ],
      "metadata": {
        "colab": {
          "base_uri": "https://localhost:8080/"
        },
        "id": "-GsArh0BbZFE",
        "outputId": "e4955f07-0d69-42f9-cc5f-e5f6dff32926"
      },
      "execution_count": null,
      "outputs": [
        {
          "output_type": "execute_result",
          "data": {
            "text/plain": [
              "np.int64(6)"
            ]
          },
          "metadata": {},
          "execution_count": 77
        }
      ]
    },
    {
      "cell_type": "code",
      "source": [
        "array1 = np.array([[1, 2, 3], [4, 5, 6]])\n",
        "array2 = np.array([10, 20, 30])\n",
        "print(array1.shape)\n",
        "print(array2.shape)\n",
        "result = array1 + array2\n",
        "result"
      ],
      "metadata": {
        "colab": {
          "base_uri": "https://localhost:8080/"
        },
        "id": "7dEzT_LyfKYZ",
        "outputId": "12509ca1-5414-4381-a063-03dd5d4ed2ff"
      },
      "execution_count": null,
      "outputs": [
        {
          "output_type": "stream",
          "name": "stdout",
          "text": [
            "(2, 3)\n",
            "(3,)\n"
          ]
        },
        {
          "output_type": "execute_result",
          "data": {
            "text/plain": [
              "array([[11, 22, 33],\n",
              "       [14, 25, 36]])"
            ]
          },
          "metadata": {},
          "execution_count": 79
        }
      ]
    },
    {
      "cell_type": "code",
      "source": [],
      "metadata": {
        "id": "qpZL3zqEhsZV"
      },
      "execution_count": null,
      "outputs": []
    }
  ]
}