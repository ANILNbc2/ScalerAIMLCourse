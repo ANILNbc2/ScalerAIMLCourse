{
  "nbformat": 4,
  "nbformat_minor": 0,
  "metadata": {
    "colab": {
      "provenance": [],
      "authorship_tag": "ABX9TyPtKBpg8M4Ey2Y+KNCQgUD2",
      "include_colab_link": true
    },
    "kernelspec": {
      "name": "python3",
      "display_name": "Python 3"
    },
    "language_info": {
      "name": "python"
    }
  },
  "cells": [
    {
      "cell_type": "markdown",
      "metadata": {
        "id": "view-in-github",
        "colab_type": "text"
      },
      "source": [
        "<a href=\"https://colab.research.google.com/github/ANILNbc2/ScalerAIMLCourse/blob/main/Module02Day03Notes.ipynb\" target=\"_parent\"><img src=\"https://colab.research.google.com/assets/colab-badge.svg\" alt=\"Open In Colab\"/></a>"
      ]
    },
    {
      "cell_type": "code",
      "execution_count": 2,
      "metadata": {
        "id": "W_SlNyOAEanu",
        "colab": {
          "base_uri": "https://localhost:8080/"
        },
        "outputId": "d2af7983-3425-4a7f-9952-4e913a4171d2"
      },
      "outputs": [
        {
          "output_type": "stream",
          "name": "stdout",
          "text": [
            "[[ 775  787  918   99  166  286 2556  324  504  402]\n",
            " [  77   78   91    9   16   28  255   32   50   40]]\n",
            "[[ 775   77]\n",
            " [ 787   78]\n",
            " [ 918   91]\n",
            " [  99    9]\n",
            " [ 166   16]\n",
            " [ 286   28]\n",
            " [2556  255]\n",
            " [ 324   32]\n",
            " [ 504   50]\n",
            " [ 402   40]]\n"
          ]
        }
      ],
      "source": [
        "import numpy as np\n",
        "resturant_data = np.array([[775,  787,  918,   99,  166,  286, 2556,  324,  504,  402],\n",
        "                           [ 77, 78, 91, 9, 16, 28, 255, 32, 50, 40]])\n",
        "print(resturant_data)\n",
        "resturant_data = np.column_stack(resturant_data)\n",
        "print(resturant_data)"
      ]
    },
    {
      "cell_type": "code",
      "source": [
        "print(resturant_data[:][0:1])"
      ],
      "metadata": {
        "colab": {
          "base_uri": "https://localhost:8080/"
        },
        "id": "nX8hAMCH4e6v",
        "outputId": "4771311e-e6de-4471-9698-dc75109fbb05"
      },
      "execution_count": 3,
      "outputs": [
        {
          "output_type": "stream",
          "name": "stdout",
          "text": [
            "[[775  77]]\n"
          ]
        }
      ]
    },
    {
      "cell_type": "code",
      "source": [
        "resturant_data = np.array([[775,  787,  918,   99,  166,  286, 2556,  324,  504,  402],\n",
        "                           [ 77, 78, 91, 9, 16, 28, 255, 32, 50, 40]])\n",
        "\n",
        "resturant_data = np.column_stack((np.column_stack(resturant_data), np.column_stack(resturant_data + 100), np.column_stack(resturant_data + 200)))\n",
        "resturant_data = np.vstack((resturant_data + resturant_data, resturant_data + 200))\n",
        "print(resturant_data)"
      ],
      "metadata": {
        "colab": {
          "base_uri": "https://localhost:8080/"
        },
        "id": "YcZVfYqp6j4P",
        "outputId": "a2bbe201-8b93-422b-9a46-ab71e06167a7"
      },
      "execution_count": 4,
      "outputs": [
        {
          "output_type": "stream",
          "name": "stdout",
          "text": [
            "[[1550  154 1750  354 1950  554]\n",
            " [1574  156 1774  356 1974  556]\n",
            " [1836  182 2036  382 2236  582]\n",
            " [ 198   18  398  218  598  418]\n",
            " [ 332   32  532  232  732  432]\n",
            " [ 572   56  772  256  972  456]\n",
            " [5112  510 5312  710 5512  910]\n",
            " [ 648   64  848  264 1048  464]\n",
            " [1008  100 1208  300 1408  500]\n",
            " [ 804   80 1004  280 1204  480]\n",
            " [ 975  277 1075  377 1175  477]\n",
            " [ 987  278 1087  378 1187  478]\n",
            " [1118  291 1218  391 1318  491]\n",
            " [ 299  209  399  309  499  409]\n",
            " [ 366  216  466  316  566  416]\n",
            " [ 486  228  586  328  686  428]\n",
            " [2756  455 2856  555 2956  655]\n",
            " [ 524  232  624  332  724  432]\n",
            " [ 704  250  804  350  904  450]\n",
            " [ 602  240  702  340  802  440]]\n"
          ]
        }
      ]
    },
    {
      "cell_type": "markdown",
      "source": [
        "#2D Slicing"
      ],
      "metadata": {
        "id": "oDxO538-9_9T"
      }
    },
    {
      "cell_type": "markdown",
      "source": [
        "When slicing a 2D array, we need to provide both row and column to slice on. <br> The way to do this is : \\<Array name\\>[row start:row end, col start:col end]"
      ],
      "metadata": {
        "id": "MYqUIHkN-DsE"
      }
    },
    {
      "cell_type": "code",
      "source": [
        "print(resturant_data.shape)\n",
        "print(resturant_data.ndim)\n",
        "print(\"\\nJust row slice : resturant_data[0:5,:]\")\n",
        "print(resturant_data[0:5,:])\n",
        "print(\"\\nWith column slice : resturant_data[0:5,-3:]\")\n",
        "print(resturant_data[0:5,-3:])"
      ],
      "metadata": {
        "colab": {
          "base_uri": "https://localhost:8080/"
        },
        "id": "f8qLUiOY7NMU",
        "outputId": "5a252406-899f-4863-8e43-4270cfbcdcc0"
      },
      "execution_count": 5,
      "outputs": [
        {
          "output_type": "stream",
          "name": "stdout",
          "text": [
            "(20, 6)\n",
            "2\n",
            "\n",
            "Just row slice : resturant_data[0:5,:]\n",
            "[[1550  154 1750  354 1950  554]\n",
            " [1574  156 1774  356 1974  556]\n",
            " [1836  182 2036  382 2236  582]\n",
            " [ 198   18  398  218  598  418]\n",
            " [ 332   32  532  232  732  432]]\n",
            "\n",
            "With column slice : resturant_data[0:5,-3:]\n",
            "[[ 354 1950  554]\n",
            " [ 356 1974  556]\n",
            " [ 382 2236  582]\n",
            " [ 218  598  418]\n",
            " [ 232  732  432]]\n"
          ]
        }
      ]
    },
    {
      "cell_type": "code",
      "source": [
        "# Get 4th to 10th row of 2nd column\n",
        "#print(resturant_data , \"\\n\\n\\n\")\n",
        "#print(resturant_data[4:9, :])\n",
        "print(resturant_data[3:10], \"\\n\\n\\n\")\n",
        "\n",
        "twoDarray = resturant_data[3:10,1:2]\n",
        "oneDArray = resturant_data[3:10,1]\n",
        "print(twoDarray,\"\\ntwoDarray.shape : \", twoDarray.shape, \"\\ntwoDarray.size : \", twoDarray.size,\"\\ntwoDarray.ndim : \", twoDarray.ndim,\"\\n\\n\\n\")\n",
        "print(oneDArray,\"\\noneDArray.shape ; \", oneDArray.shape, \"\\noneDArray.size ; \", oneDArray.size, \"\\noneDArray.ndim : \", oneDArray.ndim)\n"
      ],
      "metadata": {
        "colab": {
          "base_uri": "https://localhost:8080/"
        },
        "id": "st6Z6aJk8QMl",
        "outputId": "0edcec37-16a0-47a8-f329-4159b23ed41c"
      },
      "execution_count": 6,
      "outputs": [
        {
          "output_type": "stream",
          "name": "stdout",
          "text": [
            "[[ 198   18  398  218  598  418]\n",
            " [ 332   32  532  232  732  432]\n",
            " [ 572   56  772  256  972  456]\n",
            " [5112  510 5312  710 5512  910]\n",
            " [ 648   64  848  264 1048  464]\n",
            " [1008  100 1208  300 1408  500]\n",
            " [ 804   80 1004  280 1204  480]] \n",
            "\n",
            "\n",
            "\n",
            "[[ 18]\n",
            " [ 32]\n",
            " [ 56]\n",
            " [510]\n",
            " [ 64]\n",
            " [100]\n",
            " [ 80]] \n",
            "twoDarray.shape :  (7, 1) \n",
            "twoDarray.size :  7 \n",
            "twoDarray.ndim :  2 \n",
            "\n",
            "\n",
            "\n",
            "[ 18  32  56 510  64 100  80] \n",
            "oneDArray.shape ;  (7,) \n",
            "oneDArray.size ;  7 \n",
            "oneDArray.ndim :  1\n"
          ]
        }
      ]
    },
    {
      "cell_type": "markdown",
      "source": [
        "#Aggregate functions"
      ],
      "metadata": {
        "id": "NqTkp63xFR-X"
      }
    },
    {
      "cell_type": "markdown",
      "source": [
        "We try to summrize the data in a meaningful manner by using Aggregation.\n",
        "Certain functions are well defined to perform summerization. eg np.sum(\\<Array\\>) to get the sum of array. for example, if we want to sum all the values in the 3rd column of the resturant_data. np.sum(resturant_data[:,2])\n",
        "<br><br>\n",
        "We could have just used sum(resturant_data[:,2] but then we will be using the baseline python function which does not use vectroization and hence will be slow."
      ],
      "metadata": {
        "id": "yONKRTcb5ODO"
      }
    },
    {
      "cell_type": "code",
      "source": [
        "print(np.sum(resturant_data[:,2]))\n",
        "# we can also do :\n",
        "resturant_data[:,2].sum()\n",
        "#The <np array>.sum() is a function which runs on an instance of a numpy array and the resonse will be a numpy sum function.\n",
        "np.sum(resturant_data[:,2])\n",
        "\n"
      ],
      "metadata": {
        "colab": {
          "base_uri": "https://localhost:8080/"
        },
        "id": "sCPB2bDN_u1q",
        "outputId": "8a7830ef-0b06-454c-8900-e691cd6e972c"
      },
      "execution_count": 7,
      "outputs": [
        {
          "output_type": "stream",
          "name": "stdout",
          "text": [
            "25451\n"
          ]
        },
        {
          "output_type": "execute_result",
          "data": {
            "text/plain": [
              "np.int64(25451)"
            ]
          },
          "metadata": {},
          "execution_count": 7
        }
      ]
    },
    {
      "cell_type": "code",
      "source": [
        "#how to get avarage cost of 10 resturants. Cost is the 2nd column in the resturant_data\n",
        "print(resturant_data[:10,1].mean())\n",
        "#This is the same as : resturant_data[:10,1].sum()/10\n",
        "print (resturant_data[:10,1].sum()/10)"
      ],
      "metadata": {
        "colab": {
          "base_uri": "https://localhost:8080/"
        },
        "id": "axV3ZWi96lgD",
        "outputId": "54f4d6aa-55ee-4e9a-9c44-13e6e356c768"
      },
      "execution_count": 8,
      "outputs": [
        {
          "output_type": "stream",
          "name": "stdout",
          "text": [
            "135.2\n",
            "135.2\n"
          ]
        }
      ]
    },
    {
      "cell_type": "code",
      "source": [
        "#min and max vote. Vote is the 1st column in the array.\n",
        "print(resturant_data[:,0].min())\n",
        "print(resturant_data[:,0].max())\n",
        "\n",
        "\n"
      ],
      "metadata": {
        "colab": {
          "base_uri": "https://localhost:8080/"
        },
        "id": "P6FG6Iiw75xm",
        "outputId": "a2215f6f-ecba-4544-eea3-0b2b0c09c7b0"
      },
      "execution_count": 9,
      "outputs": [
        {
          "output_type": "stream",
          "name": "stdout",
          "text": [
            "198\n",
            "5112\n"
          ]
        }
      ]
    },
    {
      "cell_type": "code",
      "source": [
        "#Reshaping resturant for matching lecture, the table should have 2 columns, unknown number or rows.\n",
        "resturant_data = resturant_data.reshape(-1,2)\n",
        "print(resturant_data)\n",
        "print(resturant_data.shape)"
      ],
      "metadata": {
        "colab": {
          "base_uri": "https://localhost:8080/"
        },
        "id": "0soI-K7a8UsS",
        "outputId": "c55db77a-6987-48de-c726-b8e25e7d5f7a"
      },
      "execution_count": 10,
      "outputs": [
        {
          "output_type": "stream",
          "name": "stdout",
          "text": [
            "[[1550  154]\n",
            " [1750  354]\n",
            " [1950  554]\n",
            " [1574  156]\n",
            " [1774  356]\n",
            " [1974  556]\n",
            " [1836  182]\n",
            " [2036  382]\n",
            " [2236  582]\n",
            " [ 198   18]\n",
            " [ 398  218]\n",
            " [ 598  418]\n",
            " [ 332   32]\n",
            " [ 532  232]\n",
            " [ 732  432]\n",
            " [ 572   56]\n",
            " [ 772  256]\n",
            " [ 972  456]\n",
            " [5112  510]\n",
            " [5312  710]\n",
            " [5512  910]\n",
            " [ 648   64]\n",
            " [ 848  264]\n",
            " [1048  464]\n",
            " [1008  100]\n",
            " [1208  300]\n",
            " [1408  500]\n",
            " [ 804   80]\n",
            " [1004  280]\n",
            " [1204  480]\n",
            " [ 975  277]\n",
            " [1075  377]\n",
            " [1175  477]\n",
            " [ 987  278]\n",
            " [1087  378]\n",
            " [1187  478]\n",
            " [1118  291]\n",
            " [1218  391]\n",
            " [1318  491]\n",
            " [ 299  209]\n",
            " [ 399  309]\n",
            " [ 499  409]\n",
            " [ 366  216]\n",
            " [ 466  316]\n",
            " [ 566  416]\n",
            " [ 486  228]\n",
            " [ 586  328]\n",
            " [ 686  428]\n",
            " [2756  455]\n",
            " [2856  555]\n",
            " [2956  655]\n",
            " [ 524  232]\n",
            " [ 624  332]\n",
            " [ 724  432]\n",
            " [ 704  250]\n",
            " [ 804  350]\n",
            " [ 904  450]\n",
            " [ 602  240]\n",
            " [ 702  340]\n",
            " [ 802  440]]\n",
            "(60, 2)\n"
          ]
        }
      ]
    },
    {
      "cell_type": "markdown",
      "source": [
        "#Using Axis in Aggrigation"
      ],
      "metadata": {
        "id": "eMLnftr5_LII"
      }
    },
    {
      "cell_type": "markdown",
      "source": [
        "Axis gives the function a direction to perform the action on. <br>\n",
        "If Axis param value is 0, then we go vertically and if 1, then horizontally.\n",
        "\n",
        "ie. axis=0, then vertically. axis=1 then horizontally.\n",
        "\n",
        "\n",
        "```\n",
        "print(data)\n",
        "[[ 0  1  2  3]\n",
        " [ 4  5  6  7]\n",
        " [ 8  9 10 11]]\n",
        "\n",
        "print(np.sum(data, axis=0))\n",
        "[12 15 18 21]\n",
        "\n",
        "here\n",
        "12 = 0+4+8 (sum of all values in first col)\n",
        "15 = 1+5+9 (sum of all values in second col)\n",
        "18 = 2+6+10 (sum of all values in third col)\n",
        "21 = 3+7+11 (sum of all values in fourth col)\n",
        "\n",
        "Essentially, we can think of axis 0 as follows :\n",
        "if axis=0, and we are asking to perform sum, then the message is :\n",
        "1. Select each column, in this case, we have 4 columns.\n",
        "2. Now perfrom the action (in this case, sum) on every column.\n",
        "3. ie Select col 0,(returns 1 D array of all values in col 0 for every row). perform sum, add to a restunant array at col 0, Perfrom same action for all remaining columns.  \n",
        "4. This turns into perfrom the said action vertically...  \n",
        "\n",
        "print(np.sum(data, axis=1))<br>\n",
        "[ 6 22 38]\n",
        "6 = 0+1+2+3 (sum of all values in first row)\n",
        "22 = 4+5+6+7 (sum of all values in second row)\n",
        "38 = 8+9+10+11 (sum of all values in third row)\n",
        "\n",
        "Essentially, we can think of axis 1 as follows :\n",
        "if axis=1, and we are asking to perform sum, then the message is :\n",
        "1. Select each row, in this case, we have 3 rows.\n",
        "2. Now perfrom the action (in this case, sum) on every row.\n",
        "3. ie Select row 0,(returns 1 D array of all values in  row 0).\n",
        "Perform sum, add to a restunant array at col 0, Perfrom same action for all remaining rows.  \n",
        "4. This turns into perfrom the said action horizontally...  \n",
        "```\n",
        "\n",
        "\n",
        "\n"
      ],
      "metadata": {
        "id": "rpq2gyru_QRm"
      }
    },
    {
      "cell_type": "code",
      "source": [
        "data = np.arange(12).reshape(3,4)\n",
        "print(data)\n",
        "print(np.sum(data, axis=0))\n",
        "print(np.sum(data, axis=1))\n"
      ],
      "metadata": {
        "colab": {
          "base_uri": "https://localhost:8080/"
        },
        "id": "SD4bU9DK-55H",
        "outputId": "3050d828-b54e-45d0-9cc9-75e36be2188b"
      },
      "execution_count": 11,
      "outputs": [
        {
          "output_type": "stream",
          "name": "stdout",
          "text": [
            "[[ 0  1  2  3]\n",
            " [ 4  5  6  7]\n",
            " [ 8  9 10 11]]\n",
            "[12 15 18 21]\n",
            "[ 6 22 38]\n"
          ]
        }
      ]
    },
    {
      "cell_type": "markdown",
      "source": [
        "#Logical Operators"
      ],
      "metadata": {
        "id": "Qtt4bU9wDNNo"
      }
    },
    {
      "cell_type": "markdown",
      "source": [
        "Numpy logical operators :\n",
        "1. Where : Similar usage as SQL\n",
        "eg : np.where(costs > 200)\n",
        "\n",
        "np.where() always returns a tuple of arrays because it's designed for multi-dimensional indexing in NumPy.\n",
        "General Behavior of np.where(condition)<br>\n",
        "For a 2D array, the condition check produces a 2D boolean array.\n",
        "\n",
        "np.where() then returns one array per dimension:\n",
        "\n",
        "First array → all the matching row indices\n",
        "Second array → all the matching column indices\n",
        "\n",
        "\\#For clarity, I am reducing the number of rows and columns printed below<br>\n",
        "output :\n",
        "\n",
        "(array([ 1,  2,  4,  5,  7,  8, 10, 11, 13, 14, 16...]), <br>\n",
        "array([0, 0, 0, 0, 0, 0, 0, 0, 0, 0, 0, 0, 0, 0, 0...]))\n",
        "\n",
        "For example, the value at costs[1][0] is > 200. where 1 is the first entry from the first array and 0 is the first entry in the second array above.\n",
        "\n",
        "2."
      ],
      "metadata": {
        "id": "fzPTWfcEDUJA"
      }
    },
    {
      "cell_type": "code",
      "source": [
        "#0th column is votes, 1st is costs.\n",
        "costs=resturant_data[:,1:]\n",
        "votes = resturant_data[:,0:1]\n",
        "print(np.where(costs>200))"
      ],
      "metadata": {
        "colab": {
          "base_uri": "https://localhost:8080/"
        },
        "id": "j2m52kti_33X",
        "outputId": "6ae5e5e9-4a72-4171-d862-f4b49fd0f9e8"
      },
      "execution_count": 12,
      "outputs": [
        {
          "output_type": "stream",
          "name": "stdout",
          "text": [
            "(array([ 1,  2,  4,  5,  7,  8, 10, 11, 13, 14, 16, 17, 18, 19, 20, 22, 23,\n",
            "       25, 26, 28, 29, 30, 31, 32, 33, 34, 35, 36, 37, 38, 39, 40, 41, 42,\n",
            "       43, 44, 45, 46, 47, 48, 49, 50, 51, 52, 53, 54, 55, 56, 57, 58, 59]), array([0, 0, 0, 0, 0, 0, 0, 0, 0, 0, 0, 0, 0, 0, 0, 0, 0, 0, 0, 0, 0, 0,\n",
            "       0, 0, 0, 0, 0, 0, 0, 0, 0, 0, 0, 0, 0, 0, 0, 0, 0, 0, 0, 0, 0, 0,\n",
            "       0, 0, 0, 0, 0, 0, 0]))\n"
          ]
        }
      ]
    },
    {
      "cell_type": "code",
      "source": [
        "print(np.where(costs > 200))"
      ],
      "metadata": {
        "colab": {
          "base_uri": "https://localhost:8080/"
        },
        "id": "ZUwxteWPDtOX",
        "outputId": "6814bd2a-8e6d-4a47-9f5b-3d2100e8a973"
      },
      "execution_count": 13,
      "outputs": [
        {
          "output_type": "stream",
          "name": "stdout",
          "text": [
            "(array([ 1,  2,  4,  5,  7,  8, 10, 11, 13, 14, 16, 17, 18, 19, 20, 22, 23,\n",
            "       25, 26, 28, 29, 30, 31, 32, 33, 34, 35, 36, 37, 38, 39, 40, 41, 42,\n",
            "       43, 44, 45, 46, 47, 48, 49, 50, 51, 52, 53, 54, 55, 56, 57, 58, 59]), array([0, 0, 0, 0, 0, 0, 0, 0, 0, 0, 0, 0, 0, 0, 0, 0, 0, 0, 0, 0, 0, 0,\n",
            "       0, 0, 0, 0, 0, 0, 0, 0, 0, 0, 0, 0, 0, 0, 0, 0, 0, 0, 0, 0, 0, 0,\n",
            "       0, 0, 0, 0, 0, 0, 0]))\n"
          ]
        }
      ]
    },
    {
      "cell_type": "markdown",
      "source": [
        "#What happes when we use where clause in a 1D array?\n",
        "In case if we exectue the Where clause on a 1D array\n",
        "If we concert 2D array to 1D array, then we get a 1D array as outout."
      ],
      "metadata": {
        "id": "sKurLF4UmCn-"
      }
    },
    {
      "cell_type": "code",
      "source": [
        "costs1D= costs.reshape(1,-1)[0]\n",
        "print(np.where(costs1D>200))"
      ],
      "metadata": {
        "colab": {
          "base_uri": "https://localhost:8080/"
        },
        "id": "GoQLYvMYFNIk",
        "outputId": "f7a552a1-41ae-4cb3-ba69-8eb9e30a49f1"
      },
      "execution_count": 17,
      "outputs": [
        {
          "output_type": "stream",
          "name": "stdout",
          "text": [
            "(array([ 1,  2,  4,  5,  7,  8, 10, 11, 13, 14, 16, 17, 18, 19, 20, 22, 23,\n",
            "       25, 26, 28, 29, 30, 31, 32, 33, 34, 35, 36, 37, 38, 39, 40, 41, 42,\n",
            "       43, 44, 45, 46, 47, 48, 49, 50, 51, 52, 53, 54, 55, 56, 57, 58, 59]),)\n"
          ]
        }
      ]
    },
    {
      "cell_type": "markdown",
      "source": [
        "#With & and ||\n",
        "\n",
        "Where clause with & : **costs1D[np.where((costs1D>200)&(costs1D<400))]** <br><br>\n",
        "Each of the conditions need to be in its own bracket :  **np.where((clause1)&(clause2))**\n",
        "\n",
        "We can use **and** only in baseline python. In numpy, we can use \"and\" on scaler values in numpy (eg true and false) but not with arrays and other structures where we have more than 1 value present. ie it does not work in a vectorized env, which is what numpy gives us."
      ],
      "metadata": {
        "id": "o6BEUPNxmTTA"
      }
    },
    {
      "cell_type": "code",
      "source": [
        "\n",
        "#This will work :\n",
        "print(((2==2)and(3==3)))\n",
        "\n",
        "#This will throw an error\n",
        "#print(costs1D[np.where((costs1D>200) and (costs1D<400))])\n",
        "#but this wont :\n",
        "print(costs1D[np.where((costs1D>200)&(costs1D<400))])"
      ],
      "metadata": {
        "colab": {
          "base_uri": "https://localhost:8080/"
        },
        "id": "eMRGdiYylrwV",
        "outputId": "6dccdbcb-e354-4dd9-d799-29d7e773dcba"
      },
      "execution_count": 24,
      "outputs": [
        {
          "output_type": "stream",
          "name": "stdout",
          "text": [
            "True\n",
            "[354 356 382 218 232 256 264 300 280 277 377 278 378 291 391 209 309 216\n",
            " 316 228 328 232 332 250 350 240 340]\n"
          ]
        }
      ]
    },
    {
      "cell_type": "markdown",
      "source": [
        "#Any and All\n"
      ],
      "metadata": {
        "id": "BGo0q9U1oGTe"
      }
    },
    {
      "cell_type": "code",
      "source": [
        "# Are there any resturants with costs > 800\n",
        "np.any(costs>800)\n",
        "# This is true, which means there is at least 1 resturant with cost > 800"
      ],
      "metadata": {
        "colab": {
          "base_uri": "https://localhost:8080/"
        },
        "id": "pHktYe8mmkaD",
        "outputId": "66cc2948-da8d-4d16-d33e-0a9c44ff355b"
      },
      "execution_count": 27,
      "outputs": [
        {
          "output_type": "execute_result",
          "data": {
            "text/plain": [
              "np.True_"
            ]
          },
          "metadata": {},
          "execution_count": 27
        }
      ]
    },
    {
      "cell_type": "code",
      "source": [
        "# Are the costs of all the resturants > 800\n",
        "np.all(costs>800)\n",
        "# This is false, which means there is at least 1 resturant with cost < 800"
      ],
      "metadata": {
        "colab": {
          "base_uri": "https://localhost:8080/"
        },
        "id": "MKzGNA5Ho9WX",
        "outputId": "6bc51132-cd58-48ce-955f-4ffdfedd24fe"
      },
      "execution_count": 26,
      "outputs": [
        {
          "output_type": "execute_result",
          "data": {
            "text/plain": [
              "np.False_"
            ]
          },
          "metadata": {},
          "execution_count": 26
        }
      ]
    },
    {
      "cell_type": "code",
      "source": [
        "resturant_data_10x = resturant_data.reshape(10,-1)\n",
        "print(resturant_data_10x,\"\\n\\n\")\n",
        "print(costs1D)"
      ],
      "metadata": {
        "colab": {
          "base_uri": "https://localhost:8080/"
        },
        "id": "eKEo8U9TtwR8",
        "outputId": "f2fad119-c470-4899-a7d1-a5670ab0726b"
      },
      "execution_count": 54,
      "outputs": [
        {
          "output_type": "stream",
          "name": "stdout",
          "text": [
            "[[1550  154 1750  354 1950  554 1574  156 1774  356 1974  556]\n",
            " [1836  182 2036  382 2236  582  198   18  398  218  598  418]\n",
            " [ 332   32  532  232  732  432  572   56  772  256  972  456]\n",
            " [5112  510 5312  710 5512  910  648   64  848  264 1048  464]\n",
            " [1008  100 1208  300 1408  500  804   80 1004  280 1204  480]\n",
            " [ 975  277 1075  377 1175  477  987  278 1087  378 1187  478]\n",
            " [1118  291 1218  391 1318  491  299  209  399  309  499  409]\n",
            " [ 366  216  466  316  566  416  486  228  586  328  686  428]\n",
            " [2756  455 2856  555 2956  655  524  232  624  332  724  432]\n",
            " [ 704  250  804  350  904  450  602  240  702  340  802  440]] \n",
            "\n",
            "\n",
            "[154 354 554 156 356 556 182 382 582  18 218 418  32 232 432  56 256 456\n",
            " 510 710 910  64 264 464 100 300 500  80 280 480 277 377 477 278 378 478\n",
            " 291 391 491 209 309 409 216 316 416 228 328 428 455 555 655 232 332 432\n",
            " 250 350 450 240 340 440]\n"
          ]
        }
      ]
    },
    {
      "cell_type": "markdown",
      "source": [
        "#Sort and argsort\n",
        "\n",
        "sort will sort the 1D array or sort a 2D array by last axis value(axis=-1) and give output.<br>\n",
        "For a 1D array, the axis value has no meaning. For a 2D array it will take axis=1 and for 3D it will take axis=2<br>\n",
        "Argsort will sort the 1D array or sort a 2D array by by last axis value(axis=-1) and give the output as the original index of the value at the sorted position.<br><br>\n",
        "We can also pass **axis** to sort. With this, the sort algo will perform sort by row or by column. If we pass 1, it will sort horizontally, ie rowwise. and if we pass 0, it will sort per column.\n",
        "\n",
        "print(np.sort(resturant_data_10x,0),\"\\n\\n\")\n",
        "print(np.argsort(resturant_data_10x,0),\"\\n\\n\")\n",
        "\n"
      ],
      "metadata": {
        "id": "xzhf6cKcsIXw"
      }
    },
    {
      "cell_type": "code",
      "source": [
        "\n",
        "print(np.sort(costs1D),\"\\n\\n\")\n",
        "print(np.argsort(costs1D),\"\\n\\n\")\n",
        "\n",
        "print(np.sort(resturant_data_10x,0),\"\\n\\n\")\n",
        "print(np.argsort(resturant_data_10x,0),\"\\n\\n\")\n"
      ],
      "metadata": {
        "colab": {
          "base_uri": "https://localhost:8080/"
        },
        "id": "HPUx2xwao_kA",
        "outputId": "efe6882f-d24b-486c-c1de-0e888e79b9c3"
      },
      "execution_count": 52,
      "outputs": [
        {
          "output_type": "stream",
          "name": "stdout",
          "text": [
            "[ 18  32  56  64  80 100 154 156 182 209 216 218 228 232 232 240 250 256\n",
            " 264 277 278 280 291 300 309 316 328 332 340 350 354 356 377 378 382 391\n",
            " 409 416 418 428 432 432 440 450 455 456 464 477 478 480 491 500 510 554\n",
            " 555 556 582 655 710 910] \n",
            "\n",
            "\n",
            "[ 9 12 15 21 27 24  0  3  6 39 42 10 45 51 13 57 54 16 22 30 33 28 36 25\n",
            " 40 43 46 52 58 55  1  4 31 34  7 37 41 44 11 47 14 53 59 56 48 17 23 32\n",
            " 35 29 38 26 18  2 49  5  8 50 19 20] \n",
            "\n",
            "\n",
            "[[ 332   32  466  232  566  416  198   18  398  218  499  409]\n",
            " [ 366  100  532  300  732  432  299   56  399  256  598  418]\n",
            " [ 704  154  804  316  904  450  486   64  586  264  686  428]\n",
            " [ 975  182 1075  350 1175  477  524   80  624  280  724  432]\n",
            " [1008  216 1208  354 1318  491  572  156  702  309  802  440]\n",
            " [1118  250 1218  377 1408  500  602  209  772  328  972  456]\n",
            " [1550  277 1750  382 1950  554  648  228  848  332 1048  464]\n",
            " [1836  291 2036  391 2236  582  804  232 1004  340 1187  478]\n",
            " [2756  455 2856  555 2956  655  987  240 1087  356 1204  480]\n",
            " [5112  510 5312  710 5512  910 1574  278 1774  378 1974  556]] \n",
            "\n",
            "\n",
            "[[2 2 7 2 7 7 1 1 1 1 6 6]\n",
            " [7 4 2 4 2 2 6 2 6 2 1 1]\n",
            " [9 0 9 7 9 9 7 3 7 3 7 7]\n",
            " [5 1 5 9 5 5 8 4 8 4 8 8]\n",
            " [4 7 4 0 6 6 2 0 9 6 9 9]\n",
            " [6 9 6 5 4 4 9 6 2 7 2 2]\n",
            " [0 5 0 1 0 0 3 7 3 8 3 3]\n",
            " [1 6 1 6 1 1 4 8 4 9 5 5]\n",
            " [8 8 8 8 8 8 5 9 5 0 4 4]\n",
            " [3 3 3 3 3 3 0 5 0 5 0 0]] \n",
            "\n",
            "\n"
          ]
        }
      ]
    },
    {
      "cell_type": "markdown",
      "source": [
        "#Marix Operations"
      ],
      "metadata": {
        "id": "BxzybTOexHFi"
      }
    },
    {
      "cell_type": "markdown",
      "source": [
        "Usually  numpy performs elementwise operation.<br>\n",
        "So : if Arr2D-a of size (x,y) and Arr2D-b of size (x,y) <br>\n",
        "then<br>\n",
        "Arr2D-a * Arr2D-b = Arr2D-ab of size (x,y) ,where<br> Arr2D-ab(xi,yi) = Arr2D-a(xi,yi) * Arr2D-b(xi,yi)\n",
        "<br><br>\n",
        "ie an elementwise action takes place.<br>\n",
        "<br>\n",
        "#Actual Matrix Multiplication\n",
        "For real Matrix multiplication, we need to have 2 arrays A,B such that<br>\n",
        "A(MxN) and B(NxP) ie the number of cols on the first matrix should match the number of rows on second matrix. The resultant will be C(MxP)<br><br>\n",
        "A(MxN) * B(NxP) = C(MxP)\n",
        "<br>\n",
        "There are 2 functions in numpy which will help us accomplish this : <br>\n",
        "np.dot(A,B) and np.matmul(A,B)\n",
        "<br><br>\n",
        "As '*' has already taken up for multiplication, we have another symbol '@' which has been assigned the dot product symbol.\n",
        "\n",
        "\n",
        "\n",
        "```\n",
        "A = np.arange(1,13).reshape(3,4)\n",
        "[[ 1  2  3  4]\n",
        " [ 5  6  7  8]\n",
        " [ 9 10 11 12]]\n",
        "\n",
        "B = np.arange(13,25).reshape(4,3)\n",
        "[[13 14 15]\n",
        " [16 17 18]\n",
        " [19 20 21]\n",
        " [22 23 24]]\n",
        "\n",
        "C = np.dot(A,B)\n",
        "D = np.matmul(A,B)\n",
        "E =  A@B\n",
        "print(C)\n",
        "[[190 200 210]\n",
        " [470 496 522]\n",
        " [750 792 834]]\n",
        "\n",
        "print(D)\n",
        "[[190 200 210]\n",
        " [470 496 522]\n",
        " [750 792 834]]\n",
        "\n",
        "print(E)\n",
        "[[190 200 210]\n",
        " [470 496 522]\n",
        " [750 792 834]]\n",
        "\n",
        "```\n",
        "\n"
      ],
      "metadata": {
        "id": "fQLp9nzGxO2Z"
      }
    },
    {
      "cell_type": "code",
      "source": [
        "A = np.arange(1,13).reshape(3,4)\n",
        "print(A,\"\\n\\n\")\n",
        "B = np.arange(13,25).reshape(4,3)\n",
        "print(B,\"\\n\\n\")\n",
        "C = np.dot(A,B)\n",
        "D = np.matmul(A,B)\n",
        "E = A @ B\n",
        "\n",
        "print(C,\"\\n\\n\")\n",
        "\n",
        "print(D,\"\\n\\n\")\n",
        "\n",
        "print(E,\"\\n\\n\")"
      ],
      "metadata": {
        "colab": {
          "base_uri": "https://localhost:8080/"
        },
        "id": "q-T0oYxlrnTt",
        "outputId": "87484e0d-e10f-4fbb-ac6e-8d7cc468f0fe"
      },
      "execution_count": 66,
      "outputs": [
        {
          "output_type": "stream",
          "name": "stdout",
          "text": [
            "[[ 1  2  3  4]\n",
            " [ 5  6  7  8]\n",
            " [ 9 10 11 12]] \n",
            "\n",
            "\n",
            "[[13 14 15]\n",
            " [16 17 18]\n",
            " [19 20 21]\n",
            " [22 23 24]] \n",
            "\n",
            "\n",
            "[[190 200 210]\n",
            " [470 496 522]\n",
            " [750 792 834]] \n",
            "\n",
            "\n",
            "[[190 200 210]\n",
            " [470 496 522]\n",
            " [750 792 834]] \n",
            "\n",
            "\n",
            "[[190 200 210]\n",
            " [470 496 522]\n",
            " [750 792 834]] \n",
            "\n",
            "\n"
          ]
        }
      ]
    },
    {
      "cell_type": "code",
      "source": [
        "np.dot(A,5)"
      ],
      "metadata": {
        "colab": {
          "base_uri": "https://localhost:8080/"
        },
        "id": "eF1DcPbK1JV-",
        "outputId": "1d00acb3-2a94-4006-baea-5a87bb3aecfc"
      },
      "execution_count": 69,
      "outputs": [
        {
          "output_type": "execute_result",
          "data": {
            "text/plain": [
              "array([[ 5, 10, 15, 20],\n",
              "       [25, 30, 35, 40],\n",
              "       [45, 50, 55, 60]])"
            ]
          },
          "metadata": {},
          "execution_count": 69
        }
      ]
    },
    {
      "cell_type": "markdown",
      "source": [
        "#Broadcasting"
      ],
      "metadata": {
        "id": "HBJXvqwB3RXz"
      }
    },
    {
      "cell_type": "markdown",
      "source": [
        "In NumPy, broadcasting is the set of rules it uses to perform operations on arrays of different shapes without making unnecessary copies of data.\n",
        "\n",
        "It lets NumPy automatically expand smaller arrays to match the shape of larger ones so you can write cleaner, vectorized code.\n",
        "\n",
        "1️⃣ The Basic Idea\n",
        "If two arrays don’t have the same shape:\n",
        "\n",
        "NumPy tries to “stretch” the smaller one along dimensions where they differ.\n",
        "\n",
        "This stretching is virtual — it doesn’t copy data, just reuses it in memory.\n",
        "\n",
        "2️⃣ The Broadcasting Rules\n",
        "When comparing shapes of two arrays:\n",
        "\n",
        "Compare dimensions starting from the rightmost.\n",
        "\n",
        "For each dimension:\n",
        "\n",
        "If the dimensions are equal → ✅ compatible\n",
        "\n",
        "If one of them is 1 → ✅ compatible (the size 1 is stretched to match)\n",
        "\n",
        "Otherwise → ❌ incompatible (broadcasting fails)\n",
        "\n",
        "Example 1 — Scalar & Array\n",
        "python\n",
        "Copy\n",
        "import numpy as np\n",
        "\n",
        "a = np.array([1, 2, 3])  # shape: (3,)\n",
        "b = 2                    # scalar\n",
        "\n",
        "print(a + b)  # Broadcasting scalar to shape (3,)\n",
        "Output:\n",
        "\n",
        "csharp\n",
        "Copy\n",
        "[3 4 5]\n",
        "Here, 2 is virtually replicated into [2, 2, 2].\n",
        "\n",
        "Example 2 — 1D and 2D Array\n",
        "python\n",
        "Copy\n",
        "a = np.array([[1],\n",
        "              [2],\n",
        "              [3]])  # shape (3,1)\n",
        "b = np.array([10, 20, 30])  # shape (3,)\n",
        "\n",
        "# Shapes from right: (1) vs (3) → stretch column of a\n",
        "# Leftmost dimension: (3) vs (3) → match\n",
        "print(a + b)\n",
        "Output:\n",
        "\n",
        "lua\n",
        "Copy\n",
        "[[11 21 31]\n",
        " [12 22 32]\n",
        " [13 23 33]]\n",
        "Example 3 — Incompatible Shapes\n",
        "python\n",
        "Copy\n",
        "a = np.ones((3, 2))\n",
        "b = np.ones((3, 3))\n",
        "\n",
        "# Last dimension: 2 vs 3 → ❌ not equal and neither is 1\n",
        "print(a + b)  # ValueError\n",
        "3️⃣ Why Broadcasting Matters\n",
        "Avoids loops → faster execution\n",
        "\n",
        "Saves memory → no need to explicitly expand arrays\n",
        "\n",
        "Enables cleaner, more Pythonic code\n",
        "\n",
        "In your np.where(costs > 200) example:\n",
        "If costs was (60, 1) and you compared with 200 (scalar), NumPy broadcasted 200 to shape (60, 1) before doing the comparison — without actually creating a (60, 1) array of 200s."
      ],
      "metadata": {
        "id": "w7Sck2cX5A6L"
      }
    },
    {
      "cell_type": "code",
      "source": [
        "array_2d = np.arange(1,7).reshape(2,-1)\n",
        "array_1d = np.arange(10,31,10)\n",
        "scaler = 10\n",
        "print(array_2d,\"\\n\")\n",
        "print(array_2d+scaler,\"\\n\")\n",
        "print(array_1d,\"\\n\")\n",
        "print((array_2d + array_1d),\"\\n\")"
      ],
      "metadata": {
        "colab": {
          "base_uri": "https://localhost:8080/"
        },
        "id": "Diz42N5r29-q",
        "outputId": "d83d6e2e-3ee3-4998-feba-23c62d078692"
      },
      "execution_count": 84,
      "outputs": [
        {
          "output_type": "stream",
          "name": "stdout",
          "text": [
            "[[1 2 3]\n",
            " [4 5 6]] \n",
            "\n",
            "[[11 12 13]\n",
            " [14 15 16]] \n",
            "\n",
            "[10 20 30] \n",
            "\n",
            "[[11 22 33]\n",
            " [14 25 36]] \n",
            "\n"
          ]
        }
      ]
    },
    {
      "cell_type": "code",
      "source": [],
      "metadata": {
        "id": "YerVb6v33zh5"
      },
      "execution_count": null,
      "outputs": []
    }
  ]
}