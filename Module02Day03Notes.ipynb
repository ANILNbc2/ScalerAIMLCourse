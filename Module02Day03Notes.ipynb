{
  "nbformat": 4,
  "nbformat_minor": 0,
  "metadata": {
    "colab": {
      "provenance": [],
      "authorship_tag": "ABX9TyORAaVdgTr4hHjgxPfqzCj+",
      "include_colab_link": true
    },
    "kernelspec": {
      "name": "python3",
      "display_name": "Python 3"
    },
    "language_info": {
      "name": "python"
    }
  },
  "cells": [
    {
      "cell_type": "markdown",
      "metadata": {
        "id": "view-in-github",
        "colab_type": "text"
      },
      "source": [
        "<a href=\"https://colab.research.google.com/github/ANILNbc2/ScalerAIMLCourse/blob/main/Module02Day03Notes.ipynb\" target=\"_parent\"><img src=\"https://colab.research.google.com/assets/colab-badge.svg\" alt=\"Open In Colab\"/></a>"
      ]
    },
    {
      "cell_type": "code",
      "execution_count": 10,
      "metadata": {
        "id": "W_SlNyOAEanu",
        "outputId": "f78c3898-8b85-4b92-8b42-9f281e160b59",
        "colab": {
          "base_uri": "https://localhost:8080/"
        }
      },
      "outputs": [
        {
          "output_type": "stream",
          "name": "stdout",
          "text": [
            "[[ 775  787  918   99  166  286 2556  324  504  402]\n",
            " [  77   78   91    9   16   28  255   32   50   40]]\n",
            "[[ 775   77]\n",
            " [ 787   78]\n",
            " [ 918   91]\n",
            " [  99    9]\n",
            " [ 166   16]\n",
            " [ 286   28]\n",
            " [2556  255]\n",
            " [ 324   32]\n",
            " [ 504   50]\n",
            " [ 402   40]]\n"
          ]
        }
      ],
      "source": [
        "import numpy as np\n",
        "resturant_data = np.array([[775,  787,  918,   99,  166,  286, 2556,  324,  504,  402],\n",
        "                           [ 77, 78, 91, 9, 16, 28, 255, 32, 50, 40]])\n",
        "print(resturant_data)\n",
        "resturant_data = np.column_stack(resturant_data)\n",
        "print(resturant_data)"
      ]
    },
    {
      "cell_type": "code",
      "source": [
        "print(resturant_data[:][0:1])"
      ],
      "metadata": {
        "id": "nX8hAMCH4e6v",
        "outputId": "ffe95a0e-e82c-4ef4-fe6a-b8e8894fa2e5",
        "colab": {
          "base_uri": "https://localhost:8080/"
        }
      },
      "execution_count": 4,
      "outputs": [
        {
          "output_type": "stream",
          "name": "stdout",
          "text": [
            "[[775  77]]\n"
          ]
        }
      ]
    },
    {
      "cell_type": "code",
      "source": [
        "resturant_data = np.array([[775,  787,  918,   99,  166,  286, 2556,  324,  504,  402],\n",
        "                           [ 77, 78, 91, 9, 16, 28, 255, 32, 50, 40]])\n",
        "\n",
        "resturant_data = np.column_stack((np.column_stack(resturant_data), np.column_stack(resturant_data + 100), np.column_stack(resturant_data + 200)))\n",
        "resturant_data = np.vstack((resturant_data + resturant_data, resturant_data + 200))\n",
        "print(resturant_data)"
      ],
      "metadata": {
        "id": "YcZVfYqp6j4P",
        "outputId": "26a094cf-b119-4921-a17a-21d904559811",
        "colab": {
          "base_uri": "https://localhost:8080/"
        }
      },
      "execution_count": 11,
      "outputs": [
        {
          "output_type": "stream",
          "name": "stdout",
          "text": [
            "[[1550  154 1750  354 1950  554]\n",
            " [1574  156 1774  356 1974  556]\n",
            " [1836  182 2036  382 2236  582]\n",
            " [ 198   18  398  218  598  418]\n",
            " [ 332   32  532  232  732  432]\n",
            " [ 572   56  772  256  972  456]\n",
            " [5112  510 5312  710 5512  910]\n",
            " [ 648   64  848  264 1048  464]\n",
            " [1008  100 1208  300 1408  500]\n",
            " [ 804   80 1004  280 1204  480]\n",
            " [ 975  277 1075  377 1175  477]\n",
            " [ 987  278 1087  378 1187  478]\n",
            " [1118  291 1218  391 1318  491]\n",
            " [ 299  209  399  309  499  409]\n",
            " [ 366  216  466  316  566  416]\n",
            " [ 486  228  586  328  686  428]\n",
            " [2756  455 2856  555 2956  655]\n",
            " [ 524  232  624  332  724  432]\n",
            " [ 704  250  804  350  904  450]\n",
            " [ 602  240  702  340  802  440]]\n"
          ]
        }
      ]
    },
    {
      "cell_type": "markdown",
      "source": [
        "#2D Slicing"
      ],
      "metadata": {
        "id": "oDxO538-9_9T"
      }
    },
    {
      "cell_type": "markdown",
      "source": [
        "When slicing a 2D array, we need to provide both row and column to slice on. <br> The way to do this is : \\<Array name\\>[row start:row end, col start:col end]"
      ],
      "metadata": {
        "id": "MYqUIHkN-DsE"
      }
    },
    {
      "cell_type": "code",
      "source": [
        "print(resturant_data.shape)\n",
        "print(resturant_data.ndim)\n",
        "print(\"\\nJust row slice : resturant_data[0:5,:]\")\n",
        "print(resturant_data[0:5,:])\n",
        "print(\"\\nWith column slice : resturant_data[0:5,-3:]\")\n",
        "print(resturant_data[0:5,-3:])"
      ],
      "metadata": {
        "id": "f8qLUiOY7NMU",
        "outputId": "dfc465e9-154a-43ea-9c91-cf76b49ebcd0",
        "colab": {
          "base_uri": "https://localhost:8080/"
        }
      },
      "execution_count": 6,
      "outputs": [
        {
          "output_type": "stream",
          "name": "stdout",
          "text": [
            "(20, 6)\n",
            "2\n",
            "\n",
            "Just row slice : resturant_data[0:5,:]\n",
            "[[1550  154 1750  354 1950  554]\n",
            " [1574  156 1774  356 1974  556]\n",
            " [1836  182 2036  382 2236  582]\n",
            " [ 198   18  398  218  598  418]\n",
            " [ 332   32  532  232  732  432]]\n",
            "\n",
            "With column slice : resturant_data[0:5,-3:]\n",
            "[[ 354 1950  554]\n",
            " [ 356 1974  556]\n",
            " [ 382 2236  582]\n",
            " [ 218  598  418]\n",
            " [ 232  732  432]]\n"
          ]
        }
      ]
    },
    {
      "cell_type": "code",
      "source": [
        "# Get 4th to 10th row of 2nd column\n",
        "#print(resturant_data , \"\\n\\n\\n\")\n",
        "#print(resturant_data[4:9, :])\n",
        "print(resturant_data[3:10], \"\\n\\n\\n\")\n",
        "\n",
        "twoDarray = resturant_data[3:10,1:2]\n",
        "oneDArray = resturant_data[3:10,1]\n",
        "print(twoDarray,\"\\ntwoDarray.shape : \", twoDarray.shape, \"\\ntwoDarray.size : \", twoDarray.size,\"\\ntwoDarray.ndim : \", twoDarray.ndim,\"\\n\\n\\n\")\n",
        "print(oneDArray,\"\\noneDArray.shape ; \", oneDArray.shape, \"\\noneDArray.size ; \", oneDArray.size, \"\\noneDArray.ndim : \", oneDArray.ndim)\n"
      ],
      "metadata": {
        "id": "st6Z6aJk8QMl",
        "outputId": "9a0d7bc4-34cc-44d6-aded-0bccdbb9c79a",
        "colab": {
          "base_uri": "https://localhost:8080/"
        }
      },
      "execution_count": 12,
      "outputs": [
        {
          "output_type": "stream",
          "name": "stdout",
          "text": [
            "[[ 198   18  398  218  598  418]\n",
            " [ 332   32  532  232  732  432]\n",
            " [ 572   56  772  256  972  456]\n",
            " [5112  510 5312  710 5512  910]\n",
            " [ 648   64  848  264 1048  464]\n",
            " [1008  100 1208  300 1408  500]\n",
            " [ 804   80 1004  280 1204  480]] \n",
            "\n",
            "\n",
            "\n",
            "[[ 18]\n",
            " [ 32]\n",
            " [ 56]\n",
            " [510]\n",
            " [ 64]\n",
            " [100]\n",
            " [ 80]] \n",
            "twoDarray.shape :  (7, 1) \n",
            "twoDarray.size :  7 \n",
            "twoDarray.ndim :  2 \n",
            "\n",
            "\n",
            "\n",
            "[ 18  32  56 510  64 100  80] \n",
            "oneDArray.shape ;  (7,) \n",
            "oneDArray.size ;  7 \n",
            "oneDArray.ndim :  1\n"
          ]
        }
      ]
    },
    {
      "cell_type": "markdown",
      "source": [
        "#Aggregate functions"
      ],
      "metadata": {
        "id": "NqTkp63xFR-X"
      }
    },
    {
      "cell_type": "markdown",
      "source": [
        "We try to summrize the data in a meaningful manner by using Aggregation.\n",
        "Certain functions are well defined to perform summerization. eg np.sum(\\<Array\\>) to get the sum of array. for example, if we want to sum all the values in the 3rd column of the resturant_data. np.sum(resturant_data[:,2])\n",
        "<br><br>\n",
        "We could have just used sum(resturant_data[:,2] but then we will be using the baseline python function which does not use vectroization and hence will be slow."
      ],
      "metadata": {
        "id": "yONKRTcb5ODO"
      }
    },
    {
      "cell_type": "code",
      "source": [
        "print(np.sum(resturant_data[:,2]))\n",
        "# we can also do :\n",
        "resturant_data[:,2].sum()\n",
        "#The <np array>.sum() is a function which runs on an instance of a numpy array and the resonse will be a numpy sum function.\n",
        "np.sum(resturant_data[:,2])\n",
        "\n"
      ],
      "metadata": {
        "id": "sCPB2bDN_u1q",
        "outputId": "422e61f6-4e36-462b-be89-2b541dc05bd2",
        "colab": {
          "base_uri": "https://localhost:8080/"
        }
      },
      "execution_count": 20,
      "outputs": [
        {
          "output_type": "stream",
          "name": "stdout",
          "text": [
            "25451\n"
          ]
        },
        {
          "output_type": "execute_result",
          "data": {
            "text/plain": [
              "np.int64(25451)"
            ]
          },
          "metadata": {},
          "execution_count": 20
        }
      ]
    },
    {
      "cell_type": "code",
      "source": [
        "#how to get avarage cost of 10 resturants. Cost is the 2nd column in the resturant_data\n",
        "print(resturant_data[:10,1].mean())\n",
        "#This is the same as : resturant_data[:10,1].sum()/10\n",
        "print (resturant_data[:10,1].sum()/10)"
      ],
      "metadata": {
        "id": "axV3ZWi96lgD",
        "outputId": "ffdc4e07-051e-4d78-b89c-01642a68a922",
        "colab": {
          "base_uri": "https://localhost:8080/"
        }
      },
      "execution_count": 24,
      "outputs": [
        {
          "output_type": "stream",
          "name": "stdout",
          "text": [
            "135.2\n",
            "135.2\n"
          ]
        }
      ]
    },
    {
      "cell_type": "code",
      "source": [
        "#min and max vote. Vote is the 1st column in the array.\n",
        "print(resturant_data[:,0].min())\n",
        "print(resturant_data[:,0].max())\n",
        "\n",
        "\n"
      ],
      "metadata": {
        "id": "P6FG6Iiw75xm",
        "outputId": "478da7a8-dca5-4c18-eb75-217cb213351c",
        "colab": {
          "base_uri": "https://localhost:8080/"
        }
      },
      "execution_count": 27,
      "outputs": [
        {
          "output_type": "stream",
          "name": "stdout",
          "text": [
            "198\n",
            "5112\n"
          ]
        }
      ]
    },
    {
      "cell_type": "code",
      "source": [],
      "metadata": {
        "id": "0soI-K7a8UsS"
      },
      "execution_count": null,
      "outputs": []
    }
  ]
}