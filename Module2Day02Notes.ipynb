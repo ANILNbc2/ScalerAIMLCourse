{
  "nbformat": 4,
  "nbformat_minor": 0,
  "metadata": {
    "colab": {
      "provenance": [],
      "authorship_tag": "ABX9TyNGmEk2JfGWjz43AHFaTU3o",
      "include_colab_link": true
    },
    "kernelspec": {
      "name": "python3",
      "display_name": "Python 3"
    },
    "language_info": {
      "name": "python"
    }
  },
  "cells": [
    {
      "cell_type": "markdown",
      "metadata": {
        "id": "view-in-github",
        "colab_type": "text"
      },
      "source": [
        "<a href=\"https://colab.research.google.com/github/ANILNbc2/ScalerAIMLCourse/blob/main/Module2Day02Notes.ipynb\" target=\"_parent\"><img src=\"https://colab.research.google.com/assets/colab-badge.svg\" alt=\"Open In Colab\"/></a>"
      ]
    },
    {
      "cell_type": "code",
      "execution_count": null,
      "metadata": {
        "id": "viZfjz_jOHJE",
        "colab": {
          "base_uri": "https://localhost:8080/"
        },
        "outputId": "424325fc-720e-4574-a86e-c3b446bb5711"
      },
      "outputs": [
        {
          "output_type": "stream",
          "name": "stdout",
          "text": [
            "Hello AIML Batch July 2025\n"
          ]
        }
      ],
      "source": [
        "print(\"Hello AIML Batch July 2025\")"
      ]
    },
    {
      "cell_type": "code",
      "source": [
        " students=[1,2,3,4,5]\n",
        " print(type(students))"
      ],
      "metadata": {
        "colab": {
          "base_uri": "https://localhost:8080/"
        },
        "id": "L-zefW4fQo-A",
        "outputId": "2e347d5f-a15c-47be-86b1-8aaa019e4e6d"
      },
      "execution_count": null,
      "outputs": [
        {
          "output_type": "stream",
          "name": "stdout",
          "text": [
            "<class 'list'>\n"
          ]
        }
      ]
    },
    {
      "cell_type": "markdown",
      "source": [],
      "metadata": {
        "id": "RNaoOfMyyxlW"
      }
    },
    {
      "cell_type": "markdown",
      "source": [
        "#Some basic numpy functions.\n"
      ],
      "metadata": {
        "id": "Ky4a_sBgtSkb"
      }
    },
    {
      "cell_type": "markdown",
      "source": [
        "We use numpy.array to create a numpy array. Numpy Arrays are homogenious and will type cast all elements to the same type.\n",
        "\n",
        "```\n",
        "So a = np.array(['1.2', 2.4 ])\n",
        "will cause the array to become : ['1.2', '2.4']\n",
        "```\n",
        "To display the type of element, we can use type(object). This will tell us if the object is a numpy array. Its a python function.<br>\n",
        "```\n",
        "So print(type(a)) = \\<class 'numpy.ndarray'\\>\n",
        "```\n",
        "To display the type of the components of a numpy array, we use dtype.\n",
        "```\n",
        "So print(a.dytpe) = string.\n",
        "```\n",
        "To change the type of data (ie from String to float for example) we can use \"astype(\\<Target type\\>). eg to convert array 'a' from String to float, we do\n",
        "\n",
        "```\n",
        "a = a.astype(float).\n",
        "```\n",
        "This will convert the type from String to float and save it back into the same array a."
      ],
      "metadata": {
        "id": "sPIn3DTCyySu"
      }
    },
    {
      "cell_type": "code",
      "source": [
        "import numpy as np\n",
        "#a = np.array(['string', 'str'])\n",
        "a = np.array(['1.2'])\n",
        "print(a.dtype)\n",
        "print(type(a))\n",
        "a= a.astype(float)\n",
        "print(a.dtype)"
      ],
      "metadata": {
        "colab": {
          "base_uri": "https://localhost:8080/"
        },
        "id": "UkgyB4hgRo-H",
        "outputId": "92149d97-d811-42ca-c8a9-312e2153a40b"
      },
      "execution_count": null,
      "outputs": [
        {
          "output_type": "stream",
          "name": "stdout",
          "text": [
            "<U3\n",
            "<class 'numpy.ndarray'>\n",
            "float64\n"
          ]
        }
      ]
    },
    {
      "cell_type": "markdown",
      "source": [
        "#Indexing"
      ],
      "metadata": {
        "id": "jjdgQSyovPNz"
      }
    },
    {
      "cell_type": "code",
      "source": [
        "votes = np.array([775, 787, 918, 88, 166, 286, 2556, 324, 504, 402])\n",
        "print(votes)\n",
        "type(votes)\n",
        "#To print the 4th element\n",
        "print(votes[3])"
      ],
      "metadata": {
        "colab": {
          "base_uri": "https://localhost:8080/"
        },
        "id": "0xnOIUvEr7bu",
        "outputId": "37a8efd9-2e97-4f0c-a069-fc60767557cf"
      },
      "execution_count": null,
      "outputs": [
        {
          "output_type": "stream",
          "name": "stdout",
          "text": [
            "[ 775  787  918   99  166  286 2556  324  504  402]\n",
            "99\n"
          ]
        }
      ]
    },
    {
      "cell_type": "code",
      "source": [],
      "metadata": {
        "colab": {
          "base_uri": "https://localhost:8080/"
        },
        "id": "04OnVnr-0w8f",
        "outputId": "6a296745-5025-4f81-ed4e-b035222c9f3e"
      },
      "execution_count": null,
      "outputs": [
        {
          "output_type": "stream",
          "name": "stdout",
          "text": [
            "[1 2 3 4 5 6 7]\n",
            "[array([1]), array([2]), array([3]), array([4]), array([5]), array([6]), array([7])]\n"
          ]
        }
      ]
    },
    {
      "cell_type": "markdown",
      "source": [
        "#Slicing\n"
      ],
      "metadata": {
        "id": "dBto_MJqzha1"
      }
    },
    {
      "cell_type": "markdown",
      "source": [
        "Slicing is the idea of how to get a continuous chunk of elements.\n",
        "Negative indexing is available in python.\n",
        "<br>For negative indexing, the indexes start from -1 and not 0. The last element is at -1 index. Count accordingly."
      ],
      "metadata": {
        "id": "AfEKPetaztu2"
      }
    },
    {
      "cell_type": "code",
      "source": [
        "print(votes)\n",
        "#Indexing :\n",
        "votes[3]\n",
        "#Slicing\n",
        "print(votes[1:4])\n",
        "print(votes[len(votes)-1])\n",
        "print(votes[-1])\n",
        "print(votes[-5])"
      ],
      "metadata": {
        "colab": {
          "base_uri": "https://localhost:8080/"
        },
        "id": "yvxOyqOozmwN",
        "outputId": "039207ae-d0e3-4b18-9539-481c124aee27"
      },
      "execution_count": null,
      "outputs": [
        {
          "output_type": "stream",
          "name": "stdout",
          "text": [
            "[ 775  787  918   99  166  286 2556  324  504  402]\n",
            "[787 918  99]\n",
            "402\n",
            "402\n",
            "286\n"
          ]
        }
      ]
    },
    {
      "cell_type": "markdown",
      "source": [
        "#Covering negative Indexing slicing"
      ],
      "metadata": {
        "id": "e7EIq2J81xLH"
      }
    },
    {
      "cell_type": "markdown",
      "source": [
        "```\n",
        "For votes[:-2]\n",
        "```\n",
        "When the starting index is not mentioned, its assumed as starting from 0.\n",
        "In this case, we are going upto -2, ie the second to last element.<br> As is the case with slicing, the last printed element is one less that the final index.\n",
        "\n",
        "```\n",
        "For votes[-3:]\n",
        "```\n",
        "The starting index is taken as the starting point and the final index is assumed as size of array.<br>So we get all elements from the starting index provided till the end of the array.\n",
        "\n",
        "\n"
      ],
      "metadata": {
        "id": "IgbUMI1A11Mo"
      }
    },
    {
      "cell_type": "code",
      "source": [
        "print(votes)\n",
        "print(votes[:-2])\n",
        "print(votes[-3:])"
      ],
      "metadata": {
        "colab": {
          "base_uri": "https://localhost:8080/"
        },
        "id": "2PAQHD7Bz1Y3",
        "outputId": "d8688a6f-6f00-43c1-87e7-f6b5068abe27"
      },
      "execution_count": null,
      "outputs": [
        {
          "output_type": "stream",
          "name": "stdout",
          "text": [
            "[ 775  787  918   99  166  286 2556  324  504  402]\n",
            "[ 775  787  918   99  166  286 2556  324]\n",
            "[324 504 402]\n"
          ]
        }
      ]
    },
    {
      "cell_type": "markdown",
      "source": [
        "#Fancy Indexing(Masking)"
      ],
      "metadata": {
        "id": "-CYbyGh93g19"
      }
    },
    {
      "cell_type": "markdown",
      "source": [
        "Masking is the concept in Numpy which nudges us towards filtering.\n",
        "\n",
        "In numpy, when we do\n",
        "```\n",
        "print(votes *5)\n",
        "[ 3875  3935  4590   495   830  1430 12780  1620  2520  2010]\n",
        "```\n",
        "we will multiple all the numbers in votes by 5.<br>\n",
        "When we do an action like :\n",
        "\n",
        "```\n",
        "print(votes<100)\n",
        "[False False False  True False False False False False False]\n",
        "```\n",
        "We will create a boolean array where each element indicates whether the corresponding value in the votes array is greater than 100.\n",
        "<br>\n",
        "We can also pass a boolean array as input to votes and get a filtered output.\n",
        "For example, if we wanted to print only the even numbers :\n",
        "\n",
        "```\n",
        "print(votes )\n",
        "print(votes[False True False  True False True False True False True]\n",
        "[ 775  787  918   99  166  286 2556  324  504  402]\n",
        "[787  99 286 324 402]\n",
        "```\n",
        "Only the true elements are printed. <br>\n",
        "Another filter operation :\n",
        "```\n",
        "print(votes[votes<400])\n",
        "[ 99 166 286 324]\n",
        "```\n"
      ],
      "metadata": {
        "id": "SvAQaUHU3jNd"
      }
    },
    {
      "cell_type": "code",
      "source": [
        "print(votes)\n",
        "print(votes<100)\n",
        "print(votes)\n",
        "print(votes[[False, True, False, True, False, True, False, True, False, True]])\n",
        "print(votes[votes<400])"
      ],
      "metadata": {
        "colab": {
          "base_uri": "https://localhost:8080/"
        },
        "id": "e3unXOVS2DLq",
        "outputId": "26aa74aa-ba47-4a2c-a495-47c02638bf0b"
      },
      "execution_count": null,
      "outputs": [
        {
          "output_type": "stream",
          "name": "stdout",
          "text": [
            "[ 775  787  918   99  166  286 2556  324  504  402]\n",
            "[False False False  True False False False False False False]\n",
            "[ 775  787  918   99  166  286 2556  324  504  402]\n",
            "[787  99 286 324 402]\n",
            "[ 99 166 286 324]\n"
          ]
        }
      ]
    },
    {
      "cell_type": "markdown",
      "source": [
        "#Column stacking"
      ],
      "metadata": {
        "id": "f6jDlhqI8chu"
      }
    },
    {
      "cell_type": "markdown",
      "source": [
        "\\<arrayName\\>.shape gives the shape of the array.<br>\n",
        "In case of a 1D array, it gives the output as (\\<number of columns\\>,)<br><br>\n",
        "\n",
        "```\n",
        "costs = np.array([ 77,78,91,9,16,28,255,32,50,40])\n",
        "print(votes.shape)\n",
        "print(costs.shape)\n",
        "print(\"number of dimentions\", votes.ndim)\n",
        "\n",
        "(10,)\n",
        "(10,)\n",
        "number of dimentions 1\n",
        "```\n",
        "\n",
        "\n",
        "In case of multi dimention array, it goes for outermost to innermost. <br> So for a 2D array, the output is (\\<Number of rows\\>, \\<Number of columns\\>)<br><br>\n",
        "\n",
        "ndim = number of dimentions. Gives us the number of dimentions the array has.<br>\n",
        "\n",
        "np.column_stack(arr1, arr2) will first make the input array as vertical and then stack each of the mentioned arrays as the next column for the resultant array. <br><br>\n",
        "So if the i/p arrays are [a1, a2, a3], [b1, b2, b3] and [c1, c2,c3], and we do\n",
        "np.column_stack(a,b,c) the result will be <br>\n",
        "[[a1, b1, c1]\n",
        " [a2, b2, c2]\n",
        " [a3, b3, c3]]\n",
        "\n",
        "\n",
        "```\n",
        "resturant_data =  np.column_stack((votes, costs))\n",
        "print(resturant_data)\n",
        "print(\"number of dimentions\", resturant_data.ndim)\n",
        "print(\"shape of resturant data\", resturant_data.shape)\n",
        "\n",
        "[[ 775   77]\n",
        " [ 787   78]\n",
        " [ 918   91]\n",
        " [  99    9]\n",
        " [ 166   16]\n",
        " [ 286   28]\n",
        " [2556  255]\n",
        " [ 324   32]\n",
        " [ 504   50]\n",
        " [ 402   40]]\n",
        "number of dimentions 2\n",
        "shape of resturant data (10, 2)\n",
        "```\n",
        "\n",
        "\n",
        "\n",
        "\n",
        "\n",
        "<br> np.row_stack has been depricated. Instead we have np.vstack(\\<list of arrays\\>)\n",
        "The result is the arrays stacked vertically as expected. <br><br>\n",
        "\n",
        "Arrays being stacked must of the same size or there will be error.\n",
        "\n",
        "\n",
        "```\n",
        "resturant_data =  np.vstack((votes, costs))\n",
        "print(resturant_data)\n",
        "print(\"number of dimentions\", resturant_data.ndim)\n",
        "print(\"shape of resturant data\", resturant_data.shape)\n",
        "\n",
        "\n",
        "[[ 775  787  918   99  166  286 2556  324  504  402]\n",
        " [  77   78   91    9   16   28  255   32   50   40]]\n",
        "number of dimentions 2\n",
        "shape of resturant data (2, 10)\n",
        "```"
      ],
      "metadata": {
        "id": "8MCg_cxx8e1e"
      }
    },
    {
      "cell_type": "code",
      "source": [
        "costs = np.array([ 77,78,91,9,16,28,255,32,50,40])\n",
        "print(votes.shape)\n",
        "print(costs.shape)\n",
        "print(\"number of dimentions\", votes.ndim)\n",
        "resturant_data =  np.vstack((votes, costs))\n",
        "print(resturant_data)\n",
        "print(\"number of dimentions\", resturant_data.ndim)\n",
        "print(\"shape of resturant data\", resturant_data.shape)\n",
        "resturant_data =  np.column_stack((votes, costs))\n",
        "print(resturant_data)\n",
        "print(\"number of dimentions\", resturant_data.ndim)\n",
        "print(\"shape of resturant data\", resturant_data.shape)\n"
      ],
      "metadata": {
        "colab": {
          "base_uri": "https://localhost:8080/"
        },
        "id": "QIB3l6V38Zsm",
        "outputId": "a6f7db08-53cb-4f7a-a9d6-6f343c821131"
      },
      "execution_count": null,
      "outputs": [
        {
          "output_type": "stream",
          "name": "stdout",
          "text": [
            "(10,)\n",
            "(10,)\n",
            "number of dimentions 1\n",
            "[[ 775  787  918   99  166  286 2556  324  504  402]\n",
            " [  77   78   91    9   16   28  255   32   50   40]]\n",
            "number of dimentions 2\n",
            "shape of resturant data (2, 10)\n",
            "[[ 775   77]\n",
            " [ 787   78]\n",
            " [ 918   91]\n",
            " [  99    9]\n",
            " [ 166   16]\n",
            " [ 286   28]\n",
            " [2556  255]\n",
            " [ 324   32]\n",
            " [ 504   50]\n",
            " [ 402   40]]\n",
            "number of dimentions 2\n",
            "shape of resturant data (10, 2)\n"
          ]
        }
      ]
    },
    {
      "cell_type": "markdown",
      "source": [
        "#Reshaping a 2D array."
      ],
      "metadata": {
        "id": "9RTDePpvBEfM"
      }
    },
    {
      "cell_type": "markdown",
      "source": [
        "When we are dealing with 2D arrays, there are some simple techniques to reshare an array. There is a builtin function called reshape. The requirement is that when we use reshape, we should accomodate for all the values in the array. <br>\n",
        "So, if the resturant data has 10 rows and 2 columns, then we have total of 20 elements. When we reshape, the total size of resultant array should also be the same. <br>\n",
        "\n",
        "\n",
        "```\n",
        "print(resturant_data)\n",
        "resturant_data.reshape(4,5)\n",
        "\n",
        "[[ 775   77]\n",
        " [ 787   78]\n",
        " [ 918   91]\n",
        " [  99    9]\n",
        " [ 166   16]\n",
        " [ 286   28]\n",
        " [2556  255]\n",
        " [ 324   32]\n",
        " [ 504   50]\n",
        " [ 402   40]]\n",
        "\n",
        "\n",
        "array([[ 775,   77,  787,   78,  918],\n",
        "       [  91,   99,    9,  166,   16],\n",
        "       [ 286,   28, 2556,  255,  324],\n",
        "       [  32,  504,   50,  402,   40]])\n",
        "```\n",
        "\n",
        "If we dont want to calculate, or not sure how many total elements are there, then we can just mention the number of rows or columns and substitute the other dimention by -1 as below : <br>\n",
        "\n",
        "```\n",
        "print(resturant_data.reshape(5,-1))\n",
        "\n",
        "\n",
        "[[ 775   77  787   78]\n",
        " [ 918   91   99    9]\n",
        " [ 166   16  286   28]\n",
        " [2556  255  324   32]\n",
        " [ 504   50  402   40]]\n",
        "\n",
        "```\n",
        "\n",
        "\n",
        "```\n",
        "print(resturant_data.reshape(-1,5))\n",
        "\n",
        "[[ 775   77  787   78  918]\n",
        " [  91   99    9  166   16]\n",
        " [ 286   28 2556  255  324]\n",
        " [  32  504   50  402   40]]\n",
        "\n",
        "\n",
        "```\n",
        "\n"
      ],
      "metadata": {
        "id": "EerIDezcBa2B"
      }
    },
    {
      "cell_type": "code",
      "source": [
        "print(resturant_data)\n",
        "print(resturant_data.reshape(4,5))\n",
        "print(resturant_data.reshape(5,-1))\n",
        "print(resturant_data.reshape(-1,5))"
      ],
      "metadata": {
        "colab": {
          "base_uri": "https://localhost:8080/"
        },
        "id": "K1ZqgwdP9C7r",
        "outputId": "93bf1ca4-d50c-413e-8703-7b8935feb38b"
      },
      "execution_count": null,
      "outputs": [
        {
          "output_type": "stream",
          "name": "stdout",
          "text": [
            "[[ 775   77]\n",
            " [ 787   78]\n",
            " [ 918   91]\n",
            " [  99    9]\n",
            " [ 166   16]\n",
            " [ 286   28]\n",
            " [2556  255]\n",
            " [ 324   32]\n",
            " [ 504   50]\n",
            " [ 402   40]]\n",
            "[[ 775   77  787   78  918]\n",
            " [  91   99    9  166   16]\n",
            " [ 286   28 2556  255  324]\n",
            " [  32  504   50  402   40]]\n",
            "[[ 775   77  787   78]\n",
            " [ 918   91   99    9]\n",
            " [ 166   16  286   28]\n",
            " [2556  255  324   32]\n",
            " [ 504   50  402   40]]\n",
            "[[ 775   77  787   78  918]\n",
            " [  91   99    9  166   16]\n",
            " [ 286   28 2556  255  324]\n",
            " [  32  504   50  402   40]]\n"
          ]
        }
      ]
    },
    {
      "cell_type": "code",
      "source": [],
      "metadata": {
        "id": "dN9YhwAXCKw9"
      },
      "execution_count": null,
      "outputs": []
    }
  ]
}